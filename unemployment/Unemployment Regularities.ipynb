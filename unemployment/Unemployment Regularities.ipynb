{
 "cells": [
  {
   "cell_type": "markdown",
   "metadata": {},
   "source": [
    "2022319225 Supatach Vanichayangkuranont"
   ]
  },
  {
   "cell_type": "markdown",
   "metadata": {
    "slideshow": {
     "slide_type": "slide"
    }
   },
   "source": [
    "# Aggregate Labor Market Case Study\n",
    "\n",
    "**Midsemester Assessment (25%)**"
   ]
  },
  {
   "cell_type": "markdown",
   "metadata": {
    "slideshow": {
     "slide_type": "slide"
    }
   },
   "source": [
    "Prepared by [MachinaFantasma](https://phantomachine.github.io/) | [Twitter](https://twitter.com/MachinaFantasma)"
   ]
  },
  {
   "cell_type": "markdown",
   "metadata": {
    "slideshow": {
     "slide_type": "slide"
    },
    "toc": true
   },
   "source": [
    "<h1>Table of Contents<span class=\"tocSkip\"></span></h1>\n",
    "<div class=\"toc\"><ul class=\"toc-item\"><li><span><a href=\"#Aggregate-Labor-Market-Case-Study\" data-toc-modified-id=\"Aggregate-Labor-Market-Case-Study-1\"><span class=\"toc-item-num\">1&nbsp;&nbsp;</span>Aggregate Labor Market Case Study</a></span></li><li><span><a href=\"#Key-learning-points\" data-toc-modified-id=\"Key-learning-points-2\"><span class=\"toc-item-num\">2&nbsp;&nbsp;</span>Key learning points</a></span></li><li><span><a href=\"#Aggregate-labor-market-variables\" data-toc-modified-id=\"Aggregate-labor-market-variables-3\"><span class=\"toc-item-num\">3&nbsp;&nbsp;</span>Aggregate labor-market variables</a></span></li><li><span><a href=\"#Some-custom-functions\" data-toc-modified-id=\"Some-custom-functions-4\"><span class=\"toc-item-num\">4&nbsp;&nbsp;</span>Some custom functions</a></span><ul class=\"toc-item\"><li><span><a href=\"#QUESTION-1-(Beveridge-curve)\" data-toc-modified-id=\"QUESTION-1-(Beveridge-curve)-4.1\"><span class=\"toc-item-num\">4.1&nbsp;&nbsp;</span>QUESTION 1 (Beveridge curve)</a></span></li><li><span><a href=\"#QUESTION-2-(Market-tightness)\" data-toc-modified-id=\"QUESTION-2-(Market-tightness)-4.2\"><span class=\"toc-item-num\">4.2&nbsp;&nbsp;</span>QUESTION 2 (Market tightness)</a></span></li></ul></li><li><span><a href=\"#Data-from-Hagedorn-and-Manovskii-(HM)\" data-toc-modified-id=\"Data-from-Hagedorn-and-Manovskii-(HM)-5\"><span class=\"toc-item-num\">5&nbsp;&nbsp;</span>Data from Hagedorn and Manovskii (HM)</a></span></li><li><span><a href=\"#Key-Labor-Market-Observations\" data-toc-modified-id=\"Key-Labor-Market-Observations-6\"><span class=\"toc-item-num\">6&nbsp;&nbsp;</span>Key Labor Market Observations</a></span><ul class=\"toc-item\"><li><span><a href=\"#QUESTION-3\" data-toc-modified-id=\"QUESTION-3-6.1\"><span class=\"toc-item-num\">6.1&nbsp;&nbsp;</span>QUESTION 3</a></span></li><li><span><a href=\"#QUESTION-4\" data-toc-modified-id=\"QUESTION-4-6.2\"><span class=\"toc-item-num\">6.2&nbsp;&nbsp;</span>QUESTION 4</a></span></li></ul></li><li><span><a href=\"#Related-References\" data-toc-modified-id=\"Related-References-7\"><span class=\"toc-item-num\">7&nbsp;&nbsp;</span>Related References</a></span></li></ul></div>"
   ]
  },
  {
   "cell_type": "code",
   "execution_count": 19,
   "metadata": {
    "slideshow": {
     "slide_type": "skip"
    }
   },
   "outputs": [],
   "source": [
    "# Uncomment and run to install packages (if needed)\n",
    "\n",
    "# !conda install seaborn\n",
    "\n",
    "# !conda install -c conda-forge statsmodels"
   ]
  },
  {
   "cell_type": "code",
   "execution_count": 20,
   "metadata": {
    "slideshow": {
     "slide_type": "slide"
    }
   },
   "outputs": [],
   "source": [
    "import numpy as np\n",
    "import matplotlib.pyplot as plt\n",
    "import pandas as pd\n",
    "import seaborn as sns\n",
    "import statsmodels.api as sm"
   ]
  },
  {
   "cell_type": "code",
   "execution_count": 21,
   "metadata": {
    "slideshow": {
     "slide_type": "subslide"
    }
   },
   "outputs": [],
   "source": [
    "%matplotlib inline"
   ]
  },
  {
   "cell_type": "markdown",
   "metadata": {
    "slideshow": {
     "slide_type": "slide"
    }
   },
   "source": [
    "# Key learning points\n",
    "\n",
    "1. Understand some aggregate facts concerning the labor market (U.S. case study). \n",
    "\n",
    "2. Describe the Beveridge curve, and explain its importance.\n",
    "\n",
    "3. Demonstrate your ability to use basic Python coding and data summary/visualization skills.\n",
    "\n",
    "4. Sneak peek into the use of the ``pandas`` library and dataframe."
   ]
  },
  {
   "cell_type": "markdown",
   "metadata": {
    "slideshow": {
     "slide_type": "slide"
    }
   },
   "source": [
    "# Aggregate labor-market variables"
   ]
  },
  {
   "cell_type": "markdown",
   "metadata": {
    "slideshow": {
     "slide_type": "subslide"
    }
   },
   "source": [
    "|    Mnemonic     | Description                  |\n",
    "|:----------------|:-----------------------------|\n",
    "|    $p$          | Labor productivity (Output per worker)           |\n",
    "|    $w$          | Real wage                 |\n",
    "|    $u$          | Unemployed                   |\n",
    "|    $u$        | Unemployment rate           |\n",
    "|    $v$        | Job Vacancy rate           |\n",
    "|    $\\theta$    | $v/u$ ratio  |"
   ]
  },
  {
   "cell_type": "markdown",
   "metadata": {
    "slideshow": {
     "slide_type": "skip"
    }
   },
   "source": [
    "# Some custom functions"
   ]
  },
  {
   "cell_type": "markdown",
   "metadata": {
    "slideshow": {
     "slide_type": "skip"
    }
   },
   "source": [
    "The following custom functions are provided as optional tools. You may use these as you see fit, or, better yet write your own code solutions!"
   ]
  },
  {
   "cell_type": "code",
   "execution_count": 22,
   "metadata": {
    "slideshow": {
     "slide_type": "skip"
    }
   },
   "outputs": [],
   "source": [
    "def hpfilter2df(df, λ=1600):\n",
    "    \"\"\"Hodrick-Prescott filter for separating cyclical and trend components\n",
    "    assumed to underlie a time series. This function applies to series stored\n",
    "    in a Pandas dataframe.\"\"\"\n",
    "    # Start off with empty DICT\n",
    "    Y_cycle = {}\n",
    "    Y_trend = {}\n",
    "    # HP smoothing parameter (Shimer, AER2005)\n",
    "    # λ = 1600\n",
    "    # Loop over series in dfQ, apply filter to series named \"key\", store in DICTs\n",
    "    for key, series in df.iteritems():\n",
    "        Y_cycle[key], Y_trend[key] = sm.tsa.filters.hpfilter(series, λ)\n",
    "    # Convert DICTs to Pandas dataframes\n",
    "    Y_cycle = pd.DataFrame.from_dict(Y_cycle)\n",
    "    Y_trend = pd.DataFrame.from_dict(Y_trend)\n",
    "    return Y_cycle, Y_trend"
   ]
  },
  {
   "cell_type": "code",
   "execution_count": 23,
   "metadata": {
    "slideshow": {
     "slide_type": "skip"
    }
   },
   "outputs": [],
   "source": [
    "def seaborn_jointplot(x_key, y_key, df, xlabel=None, ylabel=None):\n",
    "    \"\"\"Custom wrapper to do seaborn jointplots\"\"\"\n",
    "    g = (sns.jointplot(x_key, y_key, \n",
    "                      data=df, \n",
    "                      kind=\"reg\",\n",
    "                      color =\"blue\",\n",
    "                      marker=\"+\",\n",
    "                      joint_kws = {'scatter_kws':dict(alpha=0.2)}\n",
    "                  )\n",
    "    ).plot_joint(sns.kdeplot, zorder=0, n_levels=6)\n",
    "    if xlabel != None:\n",
    "        g.ax_joint.set_xlabel(xlabel)\n",
    "    if ylabel != None:\n",
    "        g.ax_joint.set_ylabel(ylabel)"
   ]
  },
  {
   "cell_type": "code",
   "execution_count": 24,
   "metadata": {
    "slideshow": {
     "slide_type": "skip"
    }
   },
   "outputs": [],
   "source": [
    "def timeseries_df2acf1(df):\n",
    "    \"\"\"Take a Pandas dataframe df. Calculate first order autocorrelations.\"\"\"\n",
    "    # Loop to calculate first-order autocorrelation of each series\n",
    "    autocorr1 = {}\n",
    "    for key, series in df.iteritems():\n",
    "        autocorr1[key] = series.autocorr(lag=1)\n",
    "    acf_1 = pd.DataFrame.from_dict(autocorr1, orient='index', columns=[\"ACF(1)\"])\n",
    "    return acf_1"
   ]
  },
  {
   "cell_type": "code",
   "execution_count": 25,
   "metadata": {
    "slideshow": {
     "slide_type": "skip"
    }
   },
   "outputs": [],
   "source": [
    "def correlation_map(df, figsize=(7,6), fontsize=0.8, colormap='coolwarm'):\n",
    "    \"\"\"Generate SEABORN heatmap for Pearson correlation table,\n",
    "    given Pandas dataframe df.\"\"\"\n",
    "    # Get the lower triangle and diagonal of table\n",
    "    matrix = np.tril(df.corr(), k=-1)\n",
    "    # Mask/hide upper triangular duplicate\n",
    "    plt.figure(figsize=figsize)\n",
    "    sns.set(font_scale =fontsize)\n",
    "    sns.heatmap(df.corr(), annot=True, cmap=colormap, mask=matrix)\n",
    "    plt.show(block=False)"
   ]
  },
  {
   "cell_type": "markdown",
   "metadata": {
    "slideshow": {
     "slide_type": "slide"
    }
   },
   "source": [
    "## QUESTION 1 (Beveridge curve)\n",
    "\n",
    "Look up an undergraduate macroeconomics textbook (e.g., *Macroeconomics* by Stephen Williamson). Explain in a sentence or a few sentences what is a Beveridge curve. What sort of information is this curve supposed to convey?"
   ]
  },
  {
   "cell_type": "markdown",
   "metadata": {
    "slideshow": {
     "slide_type": "subslide"
    }
   },
   "source": [
    "The Beveridge curve shows the correlation between vacancy rate and unemployment rate, typically a negative correlation. A low vacancy rate and high unemployment rate part of the curve usually conveys that the labor market is unhealthy (loose market) and that many are jobless with no jobs to find, and vice versa (tight market). A shift outwards in the whole curve generally means that job-matching efficiency is increased, and vice versa."
   ]
  },
  {
   "cell_type": "markdown",
   "metadata": {
    "slideshow": {
     "slide_type": "subslide"
    }
   },
   "source": [
    "## QUESTION 2 (Market tightness)"
   ]
  },
  {
   "cell_type": "markdown",
   "metadata": {
    "slideshow": {
     "slide_type": "slide"
    }
   },
   "source": [
    "What is the interpretation of $θ = v/u$?\n",
    "\n",
    "If one observes a downward sloping Beveridge Curve over a very long-run sample, what is the geometric (i.e., graphical) representation or interpretation of $\\theta$?"
   ]
  },
  {
   "cell_type": "markdown",
   "metadata": {
    "slideshow": {
     "slide_type": "subslide"
    }
   },
   "source": [
    "$\\theta$ represents market tightness or 'health' of the labor market. Higher $\\theta$ means healtier market and a growing economy, and vice versa.\n",
    "\n",
    "A low vacancy rate $v$ and high unemployment rate $u$ part of the curve usually conveys that the labor market is unhealthy (loose market) (low $\\theta$) and that many are jobless with no jobs to find.\n",
    "\n",
    "A high vacancy rate $v$ and low unemployment rate $u$ part of the curve usually conveys that the labor market is healthy (tight market) (high $\\theta$) and that many jobs are readily available and there a less jobless."
   ]
  },
  {
   "cell_type": "markdown",
   "metadata": {
    "slideshow": {
     "slide_type": "slide"
    }
   },
   "source": [
    "# Data from Hagedorn and Manovskii (HM)"
   ]
  },
  {
   "cell_type": "markdown",
   "metadata": {
    "slideshow": {
     "slide_type": "subslide"
    }
   },
   "source": [
    "We now use HM's data and reproduce their Table 3.\n",
    "\n",
    "Now let's take HM's data set from their [source on the AER website](https://www.aeaweb.org/articles?id=10.1257/aer.98.4.1692). \n",
    "\n",
    "HM provided their data as a ``STATA`` data file (``.dta`` format). We can use a nifty library called ``pandas`` to talk to this format and turn that into an easy to maipulate Data Frame here.\n",
    "\n",
    "Below, we assume you have already downloaded their source files to the same directory as this notebook."
   ]
  },
  {
   "cell_type": "code",
   "execution_count": 26,
   "metadata": {
    "scrolled": false,
    "slideshow": {
     "slide_type": "subslide"
    }
   },
   "outputs": [
    {
     "data": {
      "text/html": [
       "<div>\n",
       "<style scoped>\n",
       "    .dataframe tbody tr th:only-of-type {\n",
       "        vertical-align: middle;\n",
       "    }\n",
       "\n",
       "    .dataframe tbody tr th {\n",
       "        vertical-align: top;\n",
       "    }\n",
       "\n",
       "    .dataframe thead th {\n",
       "        text-align: right;\n",
       "    }\n",
       "</style>\n",
       "<table border=\"1\" class=\"dataframe\">\n",
       "  <thead>\n",
       "    <tr style=\"text-align: right;\">\n",
       "      <th></th>\n",
       "      <th>year</th>\n",
       "      <th>quarter</th>\n",
       "      <th>$p$</th>\n",
       "      <th>$w$</th>\n",
       "      <th>$u$</th>\n",
       "      <th>$v$</th>\n",
       "      <th>$\\theta$</th>\n",
       "    </tr>\n",
       "  </thead>\n",
       "  <tbody>\n",
       "    <tr>\n",
       "      <th>0</th>\n",
       "      <td>1951</td>\n",
       "      <td>1</td>\n",
       "      <td>48.799999</td>\n",
       "      <td>99.699997</td>\n",
       "      <td>3.500000</td>\n",
       "      <td>41.333332</td>\n",
       "      <td>11.809524</td>\n",
       "    </tr>\n",
       "    <tr>\n",
       "      <th>1</th>\n",
       "      <td>1951</td>\n",
       "      <td>2</td>\n",
       "      <td>48.700001</td>\n",
       "      <td>100.599998</td>\n",
       "      <td>3.100000</td>\n",
       "      <td>42.000000</td>\n",
       "      <td>13.548388</td>\n",
       "    </tr>\n",
       "    <tr>\n",
       "      <th>2</th>\n",
       "      <td>1951</td>\n",
       "      <td>3</td>\n",
       "      <td>49.599998</td>\n",
       "      <td>99.199997</td>\n",
       "      <td>3.166667</td>\n",
       "      <td>41.666668</td>\n",
       "      <td>13.157896</td>\n",
       "    </tr>\n",
       "    <tr>\n",
       "      <th>3</th>\n",
       "      <td>1951</td>\n",
       "      <td>4</td>\n",
       "      <td>49.599998</td>\n",
       "      <td>99.699997</td>\n",
       "      <td>3.366667</td>\n",
       "      <td>42.000000</td>\n",
       "      <td>12.475248</td>\n",
       "    </tr>\n",
       "    <tr>\n",
       "      <th>4</th>\n",
       "      <td>1952</td>\n",
       "      <td>1</td>\n",
       "      <td>50.000000</td>\n",
       "      <td>100.599998</td>\n",
       "      <td>3.066667</td>\n",
       "      <td>43.000000</td>\n",
       "      <td>14.021739</td>\n",
       "    </tr>\n",
       "  </tbody>\n",
       "</table>\n",
       "</div>"
      ],
      "text/plain": [
       "   year  quarter        $p$         $w$       $u$        $v$   $\\theta$\n",
       "0  1951        1  48.799999   99.699997  3.500000  41.333332  11.809524\n",
       "1  1951        2  48.700001  100.599998  3.100000  42.000000  13.548388\n",
       "2  1951        3  49.599998   99.199997  3.166667  41.666668  13.157896\n",
       "3  1951        4  49.599998   99.699997  3.366667  42.000000  12.475248\n",
       "4  1952        1  50.000000  100.599998  3.066667  43.000000  14.021739"
      ]
     },
     "execution_count": 26,
     "metadata": {},
     "output_type": "execute_result"
    }
   ],
   "source": [
    "# Read and import HM dataset as a Pandas dataframe\n",
    "dfhm = pd.read_stata('20060403_data/Data.dta')\n",
    "\n",
    "# Add label's to each series in the dataframe\n",
    "dfhm.columns = [\"year\", \"quarter\", r\"$p$\", r\"$w$\", r\"$u$\", r\"$v$\"]\n",
    "\n",
    "# Add a new key-value pair to dataframe: market tightness series\n",
    "dfhm[r\"$\\theta$\"] = dfhm[r\"$v$\"]/dfhm[r\"$u$\"]\n",
    "\n",
    "# Print to screen the first few lines of dfhm\n",
    "dfhm.head()"
   ]
  },
  {
   "cell_type": "code",
   "execution_count": 27,
   "metadata": {
    "slideshow": {
     "slide_type": "subslide"
    }
   },
   "outputs": [
    {
     "data": {
      "text/html": [
       "<div>\n",
       "<style scoped>\n",
       "    .dataframe tbody tr th:only-of-type {\n",
       "        vertical-align: middle;\n",
       "    }\n",
       "\n",
       "    .dataframe tbody tr th {\n",
       "        vertical-align: top;\n",
       "    }\n",
       "\n",
       "    .dataframe thead th {\n",
       "        text-align: right;\n",
       "    }\n",
       "</style>\n",
       "<table border=\"1\" class=\"dataframe\">\n",
       "  <thead>\n",
       "    <tr style=\"text-align: right;\">\n",
       "      <th></th>\n",
       "      <th>year</th>\n",
       "      <th>quarter</th>\n",
       "      <th>$p$</th>\n",
       "      <th>$w$</th>\n",
       "      <th>$u$</th>\n",
       "      <th>$v$</th>\n",
       "      <th>$\\theta$</th>\n",
       "    </tr>\n",
       "  </thead>\n",
       "  <tbody>\n",
       "    <tr>\n",
       "      <th>213</th>\n",
       "      <td>2004</td>\n",
       "      <td>2</td>\n",
       "      <td>131.800003</td>\n",
       "      <td>96.900002</td>\n",
       "      <td>5.566667</td>\n",
       "      <td>38.333332</td>\n",
       "      <td>6.886228</td>\n",
       "    </tr>\n",
       "    <tr>\n",
       "      <th>214</th>\n",
       "      <td>2004</td>\n",
       "      <td>3</td>\n",
       "      <td>132.399994</td>\n",
       "      <td>97.500000</td>\n",
       "      <td>5.433333</td>\n",
       "      <td>36.666668</td>\n",
       "      <td>6.748466</td>\n",
       "    </tr>\n",
       "    <tr>\n",
       "      <th>215</th>\n",
       "      <td>2004</td>\n",
       "      <td>4</td>\n",
       "      <td>133.000000</td>\n",
       "      <td>98.699997</td>\n",
       "      <td>5.433333</td>\n",
       "      <td>37.000000</td>\n",
       "      <td>6.809816</td>\n",
       "    </tr>\n",
       "  </tbody>\n",
       "</table>\n",
       "</div>"
      ],
      "text/plain": [
       "     year  quarter         $p$        $w$       $u$        $v$  $\\theta$\n",
       "213  2004        2  131.800003  96.900002  5.566667  38.333332  6.886228\n",
       "214  2004        3  132.399994  97.500000  5.433333  36.666668  6.748466\n",
       "215  2004        4  133.000000  98.699997  5.433333  37.000000  6.809816"
      ]
     },
     "execution_count": 27,
     "metadata": {},
     "output_type": "execute_result"
    }
   ],
   "source": [
    "# ... and the tail\n",
    "dfhm.tail(3)"
   ]
  },
  {
   "cell_type": "markdown",
   "metadata": {
    "slideshow": {
     "slide_type": "subslide"
    }
   },
   "source": [
    "You can visualize and manipulate the dataframe ``dfhm`` easily.\n",
    "\n",
    "For example, let's plot the unemployment series ``u``:"
   ]
  },
  {
   "cell_type": "code",
   "execution_count": 28,
   "metadata": {
    "slideshow": {
     "slide_type": "subslide"
    }
   },
   "outputs": [
    {
     "data": {
      "image/png": "[encoded data removed]",
      "text/plain": [
       "<Figure size 432x288 with 1 Axes>"
      ]
     },
     "metadata": {
      "needs_background": "light"
     },
     "output_type": "display_data"
    }
   ],
   "source": [
    "dfhm.plot(y=r\"$u$\", xlabel=\"Quarter\")\n",
    "plt.show()"
   ]
  },
  {
   "cell_type": "markdown",
   "metadata": {
    "slideshow": {
     "slide_type": "subslide"
    }
   },
   "source": [
    "Suppose you want to extract this series from the data frame, you can just do this:"
   ]
  },
  {
   "cell_type": "code",
   "execution_count": 29,
   "metadata": {
    "slideshow": {
     "slide_type": "subslide"
    }
   },
   "outputs": [
    {
     "name": "stdout",
     "output_type": "stream",
     "text": [
      "0      3.500000\n",
      "1      3.100000\n",
      "2      3.166667\n",
      "3      3.366667\n",
      "4      3.066667\n",
      "         ...   \n",
      "211    5.866667\n",
      "212    5.666667\n",
      "213    5.566667\n",
      "214    5.433333\n",
      "215    5.433333\n",
      "Name: $u$, Length: 216, dtype: float32\n"
     ]
    }
   ],
   "source": [
    "urate = dfhm[r\"$u$\"]\n",
    "print(urate)"
   ]
  },
  {
   "cell_type": "markdown",
   "metadata": {
    "slideshow": {
     "slide_type": "subslide"
    }
   },
   "source": [
    "Below, we apply a time-series filter called the [Hodrick-Prescott filter](https://en.wikipedia.org/wiki/Hodrick%E2%80%93Prescott_filter) to \"remove\" potential long-run trend from short-run cyclical signals in each data series. \n",
    "\n",
    "(Without loss, we will be working with de-meaned data.)"
   ]
  },
  {
   "cell_type": "code",
   "execution_count": 30,
   "metadata": {
    "slideshow": {
     "slide_type": "subslide"
    }
   },
   "outputs": [],
   "source": [
    "# We'll drop the real-wage series (not used further below)\n",
    "dfhmm = dfhm.drop(columns=[\"year\", \"quarter\", r\"$w$\"])\n",
    "\n",
    "# reorder for ease of comparison to HM's Table and Shimer's Table\n",
    "dfhmmo = dfhmm[[r\"$u$\", r\"$v$\", r\"$\\theta$\", r\"$p$\"]]\n",
    "\n",
    "# Define variables as percentage deviation from respective sample means\n",
    "dfhmmo = np.log(dfhmmo.divide(dfhmmo.mean()))\n",
    "\n",
    "# Use HP filter to extract cycles from trends (HM's choice of λ)\n",
    "Yhm_cycle, Yhm_trend = hpfilter2df(dfhmmo, λ=10.**5.0)"
   ]
  },
  {
   "cell_type": "code",
   "execution_count": 31,
   "metadata": {
    "scrolled": true,
    "slideshow": {
     "slide_type": "subslide"
    }
   },
   "outputs": [
    {
     "data": {
      "text/plain": [
       "<AxesSubplot:>"
      ]
     },
     "execution_count": 31,
     "metadata": {},
     "output_type": "execute_result"
    },
    {
     "data": {
      "image/png": "[encoded data removed]",
      "text/plain": [
       "<Figure size 432x288 with 1 Axes>"
      ]
     },
     "metadata": {
      "needs_background": "light"
     },
     "output_type": "display_data"
    }
   ],
   "source": [
    "# Quick visual of the residual, \"cyclical\" information\n",
    "Yhm_cycle.plot()"
   ]
  },
  {
   "cell_type": "code",
   "execution_count": 32,
   "metadata": {
    "slideshow": {
     "slide_type": "subslide"
    }
   },
   "outputs": [
    {
     "data": {
      "image/png": "[encoded data removed]",
      "text/plain": [
       "<Figure size 432x288 with 1 Axes>"
      ]
     },
     "metadata": {
      "needs_background": "light"
     },
     "output_type": "display_data"
    }
   ],
   "source": [
    "# Quick visual of the \"trend\" information\n",
    "Yhm_trend.plot()\n",
    "plt.show()"
   ]
  },
  {
   "cell_type": "markdown",
   "metadata": {
    "slideshow": {
     "slide_type": "slide"
    }
   },
   "source": [
    "# Key Labor Market Observations"
   ]
  },
  {
   "cell_type": "markdown",
   "metadata": {
    "slideshow": {
     "slide_type": "subslide"
    }
   },
   "source": [
    "**INSTRUCTION.** From here onward, use the cyclical data stored in the dataframe ``Yhm_cycle``.\n",
    "\n",
    "We'll summarize the co-movement (correlation) facts shown earlier."
   ]
  },
  {
   "cell_type": "markdown",
   "metadata": {
    "slideshow": {
     "slide_type": "subslide"
    }
   },
   "source": [
    "## QUESTION 3\n",
    "\n",
    "Use appropriate summary statistics (Pearson correlation table) *and* graphs (e.g., scatter plots) to show that:\n",
    "\n",
    "1. $u$ and $v$ are negatively correlated;\n",
    "\n",
    "2. $u$ and $p$ are negatively correlated; and\n",
    "\n",
    "3. $\\theta$ and $p$ are positively correlated\n",
    "\n",
    "over the business cycle (i.e., in the series contained in ``Yhm_cycle``)."
   ]
  },
  {
   "cell_type": "code",
   "execution_count": 33,
   "metadata": {
    "slideshow": {
     "slide_type": "subslide"
    }
   },
   "outputs": [
    {
     "name": "stdout",
     "output_type": "stream",
     "text": [
      "The Pearson correlation coefficient, -0.9018790719574107 , shows that the variables has negative correlation\n"
     ]
    },
    {
     "data": {
      "image/png": "[encoded data removed]",
      "text/plain": [
       "<Figure size 432x288 with 1 Axes>"
      ]
     },
     "metadata": {},
     "output_type": "display_data"
    },
    {
     "data": {
      "image/png": "[encoded data removed]",
      "text/plain": [
       "<Figure size 432x288 with 1 Axes>"
      ]
     },
     "metadata": {},
     "output_type": "display_data"
    }
   ],
   "source": [
    "import scipy.stats\n",
    "\n",
    "#utility function\n",
    "def correlation_status(P):\n",
    "    \"\"\"\n",
    "    The function takes in Pearson correlation coefficiant as an Int/Float input then returns the nature of the\n",
    "    correlation, as negative or positive or no correlation.\n",
    "    \"\"\"\n",
    "    if P < 0:\n",
    "        return 'negative correlation'\n",
    "    if P > 0:\n",
    "        return 'positive correlation'\n",
    "    return 'no correlation'\n",
    "\n",
    "#define graphs variables u, v, p, theta\n",
    "u = Yhm_cycle['$u$']\n",
    "v = Yhm_cycle['$v$']\n",
    "p = Yhm_cycle['$p$']\n",
    "theta = Yhm_cycle['$\\\\theta$']\n",
    "\n",
    "#calculate pearson correlation coefficient\n",
    "corr_uv = scipy.stats.pearsonr(u,v)\n",
    "print(\"The Pearson correlation coefficient,\", corr_uv[0], \", shows that the variables has\", correlation_status(corr_uv[0]))\n",
    "\n",
    "#display heatmap for Pearson correlation table\n",
    "d = pd.DataFrame(data = {'$u$': u, '$v$': v})\n",
    "sns.set(font_scale=1)\n",
    "heatmap = sns.heatmap(d.corr(), annot=True, cmap='rocket', cbar=False)\n",
    "heatmap.set(title = 'Pearson correlation table between $u$ and $v$')\n",
    "\n",
    "#create new window for scatter plot\n",
    "plt.figure()\n",
    "\n",
    "#plot u against v on a scatter plot\n",
    "plt.scatter(u,v, color='Pink')\n",
    "\n",
    "#calculate equation for trendline\n",
    "z = np.polyfit(u,v,1)\n",
    "poly = np.poly1d(z)\n",
    "\n",
    "#add trendline to plot\n",
    "plt.plot(u, poly(u), color='Red')\n",
    "\n",
    "#add title and axis names\n",
    "plt.title('$u$ and $v$ correlation')\n",
    "plt.ylabel('$v$')\n",
    "plt.xlabel('$u$')\n",
    "plt.show();"
   ]
  },
  {
   "cell_type": "code",
   "execution_count": 43,
   "metadata": {
    "slideshow": {
     "slide_type": "subslide"
    }
   },
   "outputs": [
    {
     "name": "stdout",
     "output_type": "stream",
     "text": [
      "The Pearson correlation coefficient, -0.38692551293482 , shows that the variables has negative correlation\n"
     ]
    },
    {
     "data": {
      "image/png": "[encoded data removed]",
      "text/plain": [
       "<Figure size 432x288 with 1 Axes>"
      ]
     },
     "metadata": {},
     "output_type": "display_data"
    },
    {
     "data": {
      "image/png": "[encoded data removed]",
      "text/plain": [
       "<Figure size 432x288 with 1 Axes>"
      ]
     },
     "metadata": {},
     "output_type": "display_data"
    }
   ],
   "source": [
    "#calculate pearson correlation coefficient\n",
    "corr_up = scipy.stats.pearsonr(u,p)\n",
    "print(\"The Pearson correlation coefficient,\", corr_up[0], \", shows that the variables has\", correlation_status(corr_up[0]))\n",
    "\n",
    "#display heatmap for Pearson correlation table\n",
    "d = pd.DataFrame(data = {'$u$': u, '$p$': p})\n",
    "sns.set(font_scale=1)\n",
    "heatmap = sns.heatmap(d.corr(), annot=True, cmap='rocket', cbar=False)\n",
    "heatmap.set(title = 'Pearson correlation table between $u$ and $p$')\n",
    "\n",
    "#create new window for scatter plot\n",
    "plt.figure()\n",
    "\n",
    "#plot u against p on a scatter plot\n",
    "plt.scatter(u,p, color='Pink')\n",
    "\n",
    "#calculate equation for trendline\n",
    "z = np.polyfit(u,p,1)\n",
    "poly = np.poly1d(z)\n",
    "\n",
    "#add trendline to plot\n",
    "plt.plot(u, poly(u), color='Red')\n",
    "\n",
    "#add title and axis names\n",
    "plt.title('$u$ and $p$ correlation')\n",
    "plt.ylabel('$p$')\n",
    "plt.xlabel('$u$');\n",
    "\n",
    "# d.plot.scatter('$u$','$p$');"
   ]
  },
  {
   "cell_type": "code",
   "execution_count": 35,
   "metadata": {
    "slideshow": {
     "slide_type": "subslide"
    }
   },
   "outputs": [
    {
     "name": "stdout",
     "output_type": "stream",
     "text": [
      "The Pearson correlation coefficient, 0.37451400323251943 , shows that the variables has positive correlation\n"
     ]
    },
    {
     "data": {
      "image/png": "[encoded data removed]",
      "text/plain": [
       "<Figure size 432x288 with 1 Axes>"
      ]
     },
     "metadata": {},
     "output_type": "display_data"
    },
    {
     "data": {
      "image/png": "[encoded data removed]",
      "text/plain": [
       "<Figure size 432x288 with 1 Axes>"
      ]
     },
     "metadata": {},
     "output_type": "display_data"
    }
   ],
   "source": [
    "#calculate pearson correlation coefficient\n",
    "corr_tp = scipy.stats.pearsonr(theta,p)\n",
    "print(\"The Pearson correlation coefficient,\", corr_tp[0], \", shows that the variables has\", correlation_status(corr_tp[0]))\n",
    "\n",
    "#display heatmap for Pearson correlation table\n",
    "d = pd.DataFrame(data = {r'$\\theta$': theta, '$p$': p})\n",
    "sns.set(font_scale=1)\n",
    "heatmap = sns.heatmap(d.corr(), annot=True, cmap='rocket', cbar=False)\n",
    "heatmap.set(title = r'Pearson correlation table between $\\theta$ and $p$')\n",
    "\n",
    "#create new window for scatter plot\n",
    "plt.figure()\n",
    "\n",
    "#plot theta against p on a scatter plot\n",
    "plt.scatter(theta,p, color='lightgreen')\n",
    "\n",
    "#calculate equation for trendline\n",
    "z = np.polyfit(theta,p,1)\n",
    "poly = np.poly1d(z)\n",
    "\n",
    "#add trendline to plot\n",
    "plt.plot(theta, poly(theta), color='Green')\n",
    "\n",
    "#add title and axis names\n",
    "plt.title(r'$\\theta$ and $p$ correlation')\n",
    "plt.ylabel('$p$')\n",
    "plt.xlabel(r'$\\theta$');"
   ]
  },
  {
   "cell_type": "code",
   "execution_count": 36,
   "metadata": {
    "slideshow": {
     "slide_type": "subslide"
    }
   },
   "outputs": [],
   "source": [
    "# Your code and comments ... (add more cells if needed)"
   ]
  },
  {
   "cell_type": "markdown",
   "metadata": {
    "slideshow": {
     "slide_type": "subslide"
    }
   },
   "source": [
    "What does this mean for how these other variable co-move, on average? Explain your answer.\n",
    "\n",
    "4. $u$ and $\\theta$ are negatively correlated.\n",
    "\n",
    "5. $v$ and $p$ are positively correlated.\n",
    "\n",
    "6. $v$ and $\\theta$ are positively correlated."
   ]
  },
  {
   "cell_type": "markdown",
   "metadata": {},
   "source": [
    "4. $u$ and $\\theta$ are negatively correlated.\n",
    "\n",
    "since $\\theta$ is equal to the ratio of $v/u$, and from the previous exercise, we can observe that in q3.1, $u$ and $v$ are negatively correlated. This reinforces statement 4 as increasing $u$ will decrease $v$; hence decreasing the $v/u$ ratio and decreasing $\\theta$.\n",
    "\n",
    "In terms of economics, a lower vacancy rate or $v$ means less job are available; thus more unemployment rate or $u$. This also leads to the $u$ and $\\theta$ correlation.\n",
    "\n",
    "5. $v$ and $p$ are positively correlated.\n",
    "\n",
    "We can observe in q3.1 and q3.2 that: $u$ and $v$ are negatively correlated and $u$ and $p$ are negatively correlated. We can derive that $v$ and $p$ are positively correlated due to this fact (since both goes in the opposite direction of $u$).\n",
    "\n",
    "In terms of economics, a lower vacancy rate or $v$ means more jobs a filled; thus each worker can work less to fulfill requirements which leads to less output per worker or $p$.\n",
    "\n",
    "6. $v$ and $\\theta$ are positively correlated.\n",
    "\n",
    "since $\\theta$ is equal to the ratio of $v/u$, and from the previous exercise, we can observe that in q3.1, $u$ and $v$ are negatively correlated. This reinforces statement 6 as increasing $v$ will decrease $u$; hence increasing the $v/u$ ratio and increasing $\\theta$.\n",
    "\n",
    "In terms of economics, a lower vacancy rate or $v$ means less job are available; thus more unemployment rate or $u$. This also leads to the $v$ and $\\theta$ correlation."
   ]
  },
  {
   "cell_type": "markdown",
   "metadata": {
    "slideshow": {
     "slide_type": "subslide"
    }
   },
   "source": [
    "|    Mnemonic     | Description                  |\n",
    "|:----------------|:-----------------------------|\n",
    "|    $p$          | Labor productivity (Output per worker)           |\n",
    "|    $w$          | Real wage                 |\n",
    "|    $u$          | Unemployed                   |\n",
    "|    $u$        | Unemployment rate           |\n",
    "|    $v$        | Job Vacancy rate           |\n",
    "|    $\\theta$    | $v/u$ ratio  |"
   ]
  },
  {
   "cell_type": "markdown",
   "metadata": {
    "slideshow": {
     "slide_type": "slide"
    }
   },
   "source": [
    "## QUESTION 4\n",
    "\n",
    "Below is something we've prepared earlier.\n",
    "\n",
    "The following figure extends the dataset above to include observations after the 2007/8 Great Recession.\n",
    "\n",
    "What can you deduce from the empirical Beveridge Curve in the U.S. data below?"
   ]
  },
  {
   "cell_type": "markdown",
   "metadata": {
    "slideshow": {
     "slide_type": "subslide"
    }
   },
   "source": [
    "![bc-us-prepost_gfc.png](bc-us-prepost_gfc.png)"
   ]
  },
  {
   "cell_type": "markdown",
   "metadata": {
    "slideshow": {
     "slide_type": "subslide"
    }
   },
   "source": [
    "As observed from the graph above, the <font color='blue' style='font-weight:bold'>blue</font> dots which show data during 2000-12-31 to 2007-09-30 (around 2007-08 Great Recession), were clumped up in an area showing a general negative correlation between Vacancy rate and Employment rate. However, the <font color='red' style='font-weight:bold'>red</font> crosses which show data during 2007-12-31 to 2019-12-31 (after Great Recession), were showing a similar negative correlation between Vacancy rate and Employment rate but was shifted outwards. This is deduced as the efficiency in job matching process is greater (Beveridge Curve's tendency).\n",
    "\n",
    "At 2007-12-31, the unemployment rate was ~5% and the vacancy rate was ~3.25%. This data point was hovering in the <font color='blue' style='font-weight:bold'>blue</font> dots zone. However there were only a small number of <font color='red' style='font-weight:bold'>red</font> crosses observed in the <font color='blue' style='font-weight:bold'>blue</font> dots zone. This can be deduced as after the Great recession, more jobs started to become were unavailable (not vacancy rate) thus the same vacancy rate before Great Recession (e.g., 2.5%), caused a way higher unemployment rate after the Great Recession as observed by <font color='blue' style='font-weight:bold'>blue</font> dots at (6,2.5) and <font color='red' style='font-weight:bold'>red</font> crosses at (9,2.5).\n",
    "\n",
    "It can also be seen that at 2015-12-31, the axis of vacancy rate and unemployment rate was at (5,4) and at 2019-12-31 the axis is at (3.5,4.4). This can be deduced as economic growth or that the economy is recovered from the great recession as now more jobs are READILY available, while less people are unemployed."
   ]
  },
  {
   "cell_type": "markdown",
   "metadata": {
    "slideshow": {
     "slide_type": "slide"
    }
   },
   "source": [
    "# Related References\n",
    "\n",
    "* Williamson, S. (2018), *Macroeconomics* (6th edition or later). Pearson Publishers. (Chapter 6).\n",
    "\n",
    "* Hagedorn, Marcus, and Iourii Manovskii. 2008. [\"The Cyclical Behavior of Equilibrium Unemployment and Vacancies Revisited.\" American Economic Review, 98 (4): 1692-1706](https://doi.org/10.1257/aer.98.4.1692).\n",
    "\n",
    "* Shimer, Robert. 2005. [\"The Cyclical Behavior of Equilibrium Unemployment and Vacancies.\" American Economic Review, 95 (1): 25-49](https://doi.org/10.1257/0002828053828572). \n",
    "\n",
    "* Petrosky‐Nadeau, N. and Zhang, L. (2017), [\"Solving the Diamond–Mortensen–Pissarides model accurately.\" *Quantitative Economics*, 8: 611-650](https://doi.org/10.3982/QE452)"
   ]
  },
  {
   "cell_type": "code",
   "execution_count": null,
   "metadata": {},
   "outputs": [],
   "source": []
  }
 ],
 "metadata": {
  "kernelspec": {
   "display_name": "Python 3 (ipykernel)",
   "language": "python",
   "name": "python3"
  },
  "language_info": {
   "codemirror_mode": {
    "name": "ipython",
    "version": 3
   },
   "file_extension": ".py",
   "mimetype": "text/x-python",
   "name": "python",
   "nbconvert_exporter": "python",
   "pygments_lexer": "ipython3",
   "version": "3.9.12"
  },
  "latex_envs": {
   "LaTeX_envs_menu_present": true,
   "autoclose": false,
   "autocomplete": true,
   "bibliofile": "biblio.bib",
   "cite_by": "apalike",
   "current_citInitial": 1,
   "eqLabelWithNumbers": true,
   "eqNumInitial": 1,
   "hotkeys": {
    "equation": "Ctrl-E",
    "itemize": "Ctrl-I"
   },
   "labels_anchors": false,
   "latex_user_defs": false,
   "report_style_numbering": false,
   "user_envs_cfg": false
  },
  "toc": {
   "base_numbering": 1,
   "nav_menu": {},
   "number_sections": true,
   "sideBar": true,
   "skip_h1_title": false,
   "title_cell": "Table of Contents",
   "title_sidebar": "Contents",
   "toc_cell": true,
   "toc_position": {
    "height": "215px",
    "left": "1573px",
    "top": "160.281px",
    "width": "346.984px"
   },
   "toc_section_display": true,
   "toc_window_display": true
  },
  "vscode": {
   "interpreter": {
    "hash": "38695bf1514c85faae5a4c163b69c7c9d2bb586818a69b0fda7357e10df6d0a6"
   }
  }
 },
 "nbformat": 4,
 "nbformat_minor": 4
}
