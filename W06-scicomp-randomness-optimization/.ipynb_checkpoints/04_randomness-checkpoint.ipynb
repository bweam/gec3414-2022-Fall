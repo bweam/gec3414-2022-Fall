{
 "cells": [
  {
   "cell_type": "markdown",
   "id": "dbde1b9a",
   "metadata": {
    "toc": true
   },
   "source": [
    "<h1>Table of Contents<span class=\"tocSkip\"></span></h1>\n",
    "<div class=\"toc\"><ul class=\"toc-item\"><li><span><a href=\"#Randomness\" data-toc-modified-id=\"Randomness-1\"><span class=\"toc-item-num\">1&nbsp;&nbsp;</span>Randomness</a></span><ul class=\"toc-item\"><li><span><a href=\"#Randomness\" data-toc-modified-id=\"Randomness-1.1\"><span class=\"toc-item-num\">1.1&nbsp;&nbsp;</span>Randomness</a></span><ul class=\"toc-item\"><li><span><a href=\"#Probability\" data-toc-modified-id=\"Probability-1.1.1\"><span class=\"toc-item-num\">1.1.1&nbsp;&nbsp;</span>Probability</a></span></li><li><span><a href=\"#Simulating-Randomness-in-Python\" data-toc-modified-id=\"Simulating-Randomness-in-Python-1.1.2\"><span class=\"toc-item-num\">1.1.2&nbsp;&nbsp;</span>Simulating Randomness in Python</a></span></li><li><span><a href=\"#Why-Do-We-Need-Randomness?\" data-toc-modified-id=\"Why-Do-We-Need-Randomness?-1.1.3\"><span class=\"toc-item-num\">1.1.3&nbsp;&nbsp;</span>Why Do We Need Randomness?</a></span></li><li><span><a href=\"#Exercise\" data-toc-modified-id=\"Exercise-1.1.4\"><span class=\"toc-item-num\">1.1.4&nbsp;&nbsp;</span>Exercise</a></span></li><li><span><a href=\"#Discrete-Distributions\" data-toc-modified-id=\"Discrete-Distributions-1.1.5\"><span class=\"toc-item-num\">1.1.5&nbsp;&nbsp;</span>Discrete Distributions</a></span><ul class=\"toc-item\"><li><span><a href=\"#Aside:-Vectorized-Computations\" data-toc-modified-id=\"Aside:-Vectorized-Computations-1.1.5.1\"><span class=\"toc-item-num\">1.1.5.1&nbsp;&nbsp;</span>Aside: Vectorized Computations</a></span></li><li><span><a href=\"#Profitability-Threshold\" data-toc-modified-id=\"Profitability-Threshold-1.1.5.2\"><span class=\"toc-item-num\">1.1.5.2&nbsp;&nbsp;</span>Profitability Threshold</a></span></li><li><span><a href=\"#Loan-States\" data-toc-modified-id=\"Loan-States-1.1.5.3\"><span class=\"toc-item-num\">1.1.5.3&nbsp;&nbsp;</span>Loan States</a></span></li><li><span><a href=\"#Exercise\" data-toc-modified-id=\"Exercise-1.1.5.4\"><span class=\"toc-item-num\">1.1.5.4&nbsp;&nbsp;</span>Exercise</a></span></li><li><span><a href=\"#Exercise\" data-toc-modified-id=\"Exercise-1.1.5.5\"><span class=\"toc-item-num\">1.1.5.5&nbsp;&nbsp;</span>Exercise</a></span></li></ul></li><li><span><a href=\"#Continuous-Distributions\" data-toc-modified-id=\"Continuous-Distributions-1.1.6\"><span class=\"toc-item-num\">1.1.6&nbsp;&nbsp;</span>Continuous Distributions</a></span></li><li><span><a href=\"#Exercise\" data-toc-modified-id=\"Exercise-1.1.7\"><span class=\"toc-item-num\">1.1.7&nbsp;&nbsp;</span>Exercise</a></span></li></ul></li><li><span><a href=\"#Exercises\" data-toc-modified-id=\"Exercises-1.2\"><span class=\"toc-item-num\">1.2&nbsp;&nbsp;</span>Exercises</a></span><ul class=\"toc-item\"><li><span><a href=\"#Exercise-1\" data-toc-modified-id=\"Exercise-1-1.2.1\"><span class=\"toc-item-num\">1.2.1&nbsp;&nbsp;</span>Exercise 1</a></span></li><li><span><a href=\"#Exercise-2\" data-toc-modified-id=\"Exercise-2-1.2.2\"><span class=\"toc-item-num\">1.2.2&nbsp;&nbsp;</span>Exercise 2</a></span></li><li><span><a href=\"#Exercise-3\" data-toc-modified-id=\"Exercise-3-1.2.3\"><span class=\"toc-item-num\">1.2.3&nbsp;&nbsp;</span>Exercise 3</a></span></li><li><span><a href=\"#Exercise-4\" data-toc-modified-id=\"Exercise-4-1.2.4\"><span class=\"toc-item-num\">1.2.4&nbsp;&nbsp;</span>Exercise 4</a></span></li></ul></li></ul></li></ul></div>"
   ]
  },
  {
   "cell_type": "markdown",
   "id": "76a21d92",
   "metadata": {},
   "source": [
    "# Randomness\n",
    "\n",
    "**Prerequisites**\n",
    "\n",
    "- [Introduction to Numpy](https://datascience.quantecon.org/numpy_arrays.html)  \n",
    "- [Applied Linear Algebra](https://datascience.quantecon.org/applied_linalg.html)  \n",
    "\n",
    "\n",
    "**Outcomes**\n",
    "\n",
    "- Recall basic probability  \n",
    "- Draw random numbers from numpy  \n",
    "- Understand why simulation is useful  \n",
    "- Understand the basics of Markov chains and using the `quantecon` library to study them  \n",
    "- Simulate discrete and continuous random variables and processes  "
   ]
  },
  {
   "cell_type": "code",
   "execution_count": 2,
   "id": "223d9099",
   "metadata": {
    "hide-output": false
   },
   "outputs": [],
   "source": [
    "# Uncomment following line to install on colab\n",
    "# ! pip install quantecon"
   ]
  },
  {
   "cell_type": "markdown",
   "id": "85efbcfd",
   "metadata": {},
   "source": [
    "## Randomness\n",
    "\n",
    "We will use the `numpy.random` package to simulate randomness in Python.\n",
    "\n",
    "This lecture will present various probability distributions and then use\n",
    "numpy.random to numerically verify some of the facts associated with them.\n",
    "\n",
    "We import `numpy` as usual"
   ]
  },
  {
   "cell_type": "code",
   "execution_count": 3,
   "id": "24192721",
   "metadata": {
    "hide-output": false
   },
   "outputs": [],
   "source": [
    "import numpy as np\n",
    "import matplotlib.pyplot as plt\n",
    "%matplotlib inline"
   ]
  },
  {
   "cell_type": "markdown",
   "id": "a89d2a5e",
   "metadata": {},
   "source": [
    "### Probability\n",
    "\n",
    "Before we learn how to use Python to generate randomness, we should make sure\n",
    "that we all agree on some basic concepts of probability.\n",
    "\n",
    "To think about the probability of some event occurring, we must understand what possible\n",
    "events could occur – mathematicians refer to this as the *event space*.\n",
    "\n",
    "Some examples are\n",
    "\n",
    "- For a coin flip, the coin could either come up heads, tails, or land on its side.  \n",
    "- The inches of rain falling in a certain location on a given day could be any real\n",
    "  number between 0 and $ \\infty $.  \n",
    "- The change in an S&P500 stock price could be any real number between\n",
    "  $ - $ opening price and $ \\infty $.  \n",
    "- An individual’s employment status tomorrow could either be employed or unemployed.  \n",
    "- And the list goes on…  \n",
    "\n",
    "\n",
    "Notice that in some of these cases, the event space can be counted (coin flip and employment status)\n",
    "while in others, the event space cannot be counted (rain and stock prices).\n",
    "\n",
    "We refer to random variables with countable event spaces as *discrete random variables* and\n",
    "random variables with uncountable event spaces as *continuous random variables*.\n",
    "\n",
    "We then call certain numbers ‘probabilities’ and associate them with events from the event space.\n",
    "\n",
    "The following is true about probabilities.\n",
    "\n",
    "1. The probability of any event must be greater than or equal to 0.  \n",
    "1. The probability of all events from the event space must sum (or integrate) to 1.  \n",
    "1. If two events cannot occur at same time, then the probability that at least one of them occurs is\n",
    "  the sum of the probabilities that each event occurs (known as independence).  \n",
    "\n",
    "\n",
    "We won’t rely on these for much of what we learn in this class, but occasionally, these facts will\n",
    "help us reason through what is happening."
   ]
  },
  {
   "cell_type": "markdown",
   "id": "4201f17a",
   "metadata": {},
   "source": [
    "### Simulating Randomness in Python\n",
    "\n",
    "One of the most basic random numbers is a variable that has equal probability of being any value\n",
    "between 0 and 1.\n",
    "\n",
    "You may have previously learned about this probability distribution as the Uniform(0, 1).\n",
    "\n",
    "Let’s dive into generating some random numbers.\n",
    "\n",
    "Run the code below multiple times and see what numbers you get."
   ]
  },
  {
   "cell_type": "code",
   "execution_count": 4,
   "id": "e9575c5a",
   "metadata": {
    "hide-output": false
   },
   "outputs": [
    {
     "data": {
      "text/plain": [
       "0.032726849690418724"
      ]
     },
     "execution_count": 4,
     "metadata": {},
     "output_type": "execute_result"
    }
   ],
   "source": [
    "np.random.rand()"
   ]
  },
  {
   "cell_type": "markdown",
   "id": "5c28c330",
   "metadata": {},
   "source": [
    "We can also generate arrays of random numbers."
   ]
  },
  {
   "cell_type": "code",
   "execution_count": 5,
   "id": "1d5bc768",
   "metadata": {
    "hide-output": false
   },
   "outputs": [
    {
     "data": {
      "text/plain": [
       "array([0.64713395, 0.60171765, 0.47329036, 0.72086876, 0.86835423,\n",
       "       0.33207238, 0.83753422, 0.9489999 , 0.29429939, 0.74808525,\n",
       "       0.13063225, 0.77207736, 0.88722838, 0.86104798, 0.84438933,\n",
       "       0.7784279 , 0.59280252, 0.20902561, 0.84622934, 0.72310661,\n",
       "       0.49386668, 0.71900989, 0.99573464, 0.45020213, 0.70866626])"
      ]
     },
     "execution_count": 5,
     "metadata": {},
     "output_type": "execute_result"
    }
   ],
   "source": [
    "np.random.rand(25)"
   ]
  },
  {
   "cell_type": "code",
   "execution_count": 6,
   "id": "3cf33ec1",
   "metadata": {
    "hide-output": false
   },
   "outputs": [
    {
     "data": {
      "text/plain": [
       "array([[0.96590118, 0.801935  , 0.68330825, 0.26383179, 0.7076394 ],\n",
       "       [0.90847398, 0.14069011, 0.12192116, 0.17381934, 0.88109967],\n",
       "       [0.3988894 , 0.94310214, 0.55379269, 0.92024635, 0.23955517],\n",
       "       [0.11005736, 0.32524451, 0.51740454, 0.80156587, 0.75552461],\n",
       "       [0.89791183, 0.93965564, 0.21975848, 0.46089913, 0.31336058]])"
      ]
     },
     "execution_count": 6,
     "metadata": {},
     "output_type": "execute_result"
    }
   ],
   "source": [
    "np.random.rand(5, 5)"
   ]
  },
  {
   "cell_type": "code",
   "execution_count": 7,
   "id": "2fa310b5",
   "metadata": {
    "hide-output": false
   },
   "outputs": [
    {
     "data": {
      "text/plain": [
       "array([[[0.87304383, 0.85390442, 0.79650073, 0.47372752],\n",
       "        [0.67881281, 0.79980667, 0.89465811, 0.02584495],\n",
       "        [0.78723595, 0.11854975, 0.66807572, 0.76993506]],\n",
       "\n",
       "       [[0.26151406, 0.9521409 , 0.35099559, 0.90660365],\n",
       "        [0.62747467, 0.88991162, 0.36116938, 0.47295423],\n",
       "        [0.27658363, 0.64435929, 0.92320527, 0.47378344]]])"
      ]
     },
     "execution_count": 7,
     "metadata": {},
     "output_type": "execute_result"
    }
   ],
   "source": [
    "np.random.rand(2, 3, 4)"
   ]
  },
  {
   "cell_type": "markdown",
   "id": "390e7e1d",
   "metadata": {},
   "source": [
    "### Why Do We Need Randomness?\n",
    "\n",
    "As economists and data scientists, we study complex systems.\n",
    "\n",
    "These systems have inherent randomness, but they do not readily reveal their underlying distribution\n",
    "to us.\n",
    "\n",
    "In cases where we face this difficulty, we turn to a set of tools known as Monte Carlo\n",
    "methods.\n",
    "\n",
    "These methods effectively boil down to repeatedly simulating some event (or events) and looking at\n",
    "the outcome distribution.\n",
    "\n",
    "This tool is used to inform decisions in search and rescue missions, election predictions, sports,\n",
    "and even by the Federal Reserve.\n",
    "\n",
    "The reasons that Monte Carlo methods work is a mathematical theorem known as the *Law of Large\n",
    "Numbers*.\n",
    "\n",
    "The Law of Large Numbers basically says that under relatively general conditions, the distribution of simulated outcomes will mimic the true distribution as the number of simulated events goes to infinity.\n",
    "\n",
    "We already know how the uniform distribution looks, so let’s demonstrate the Law of Large Numbers by approximating the uniform distribution."
   ]
  },
  {
   "cell_type": "code",
   "execution_count": 8,
   "id": "217dc83e",
   "metadata": {
    "hide-output": false
   },
   "outputs": [
    {
     "data": {
      "image/png": "[encoded data removed]",
      "text/plain": [
       "<Figure size 432x288 with 3 Axes>"
      ]
     },
     "metadata": {
      "needs_background": "light"
     },
     "output_type": "display_data"
    }
   ],
   "source": [
    "# Draw various numbers of uniform[0, 1] random variables\n",
    "draws_10 = np.random.rand(10)\n",
    "draws_200 = np.random.rand(200)\n",
    "draws_10000 = np.random.rand(10_000)\n",
    "\n",
    "# Plot their histograms\n",
    "fig, ax = plt.subplots(3)\n",
    "\n",
    "ax[0].set_title(\"Histogram with 10 draws\")\n",
    "ax[0].hist(draws_10)\n",
    "\n",
    "ax[1].set_title(\"Histogram with 200 draws\")\n",
    "ax[1].hist(draws_200)\n",
    "\n",
    "ax[2].set_title(\"Histogram with 10,000 draws\")\n",
    "ax[2].hist(draws_10000)\n",
    "\n",
    "fig.tight_layout()"
   ]
  },
  {
   "cell_type": "markdown",
   "id": "0d85936d",
   "metadata": {},
   "source": [
    "### Exercise\n",
    "\n",
    "See exercise 1 in the [exercise list](#ex3-4)."
   ]
  },
  {
   "cell_type": "markdown",
   "id": "e964e9c3",
   "metadata": {},
   "source": [
    "### Discrete Distributions\n",
    "\n",
    "Sometimes we will encounter variables that can only take one of a\n",
    "few possible values.\n",
    "\n",
    "We refer to this type of random variable as a discrete distribution.\n",
    "\n",
    "For example, consider a small business loan company.\n",
    "\n",
    "Imagine that the company’s loan requires a repayment of $ \\\\$25,000 $ and must be repaid 1 year\n",
    "after the loan was made.\n",
    "\n",
    "The company discounts the future at 5%.\n",
    "\n",
    "Additionally, the loans made are repaid in full with 75% probability, while\n",
    "$ \\\\$12,500 $ of loans is repaid with probability 20%, and no repayment with 5%\n",
    "probability.\n",
    "\n",
    "How much would the small business loan company be willing to loan if they’d like to\n",
    "– on average – break even?\n",
    "\n",
    "In this case, we can compute this by hand:\n",
    "\n",
    "The amount repaid, on average, is: $ 0.75(25,000) + 0.2(12,500) + 0.05(0) = 21,250 $.\n",
    "\n",
    "Since we’ll receive that amount in one year, we have to discount it:\n",
    "$ \\frac{1}{1+0.05} 21,250 \\approx 20238 $.\n",
    "\n",
    "We can now verify by simulating the outcomes of many loans."
   ]
  },
  {
   "cell_type": "code",
   "execution_count": 9,
   "id": "8c7aad84",
   "metadata": {
    "hide-output": false
   },
   "outputs": [],
   "source": [
    "# You'll see why we call it `_slow` soon :)\n",
    "def simulate_loan_repayments_slow(N, r=0.05, repayment_full=25_000.0,\n",
    "                                  repayment_part=12_500.0):\n",
    "    repayment_sims = np.zeros(N)\n",
    "    for i in range(N):\n",
    "        x = np.random.rand()  # Draw a random number\n",
    "\n",
    "        # Full repayment 75% of time\n",
    "        if x < 0.75:\n",
    "            repaid = repayment_full\n",
    "        elif x < 0.95:\n",
    "            repaid = repayment_part\n",
    "        else:\n",
    "            repaid = 0.0\n",
    "\n",
    "        repayment_sims[i] = (1 / (1 + r)) * repaid\n",
    "\n",
    "    return repayment_sims"
   ]
  },
  {
   "cell_type": "code",
   "execution_count": 10,
   "id": "a26867d5",
   "metadata": {},
   "outputs": [
    {
     "name": "stdout",
     "output_type": "stream",
     "text": [
      "20195.714285714286\n"
     ]
    }
   ],
   "source": [
    "print(np.mean(simulate_loan_repayments_slow(25_000)))"
   ]
  },
  {
   "cell_type": "markdown",
   "id": "3361df88",
   "metadata": {},
   "source": [
    "#### Aside: Vectorized Computations\n",
    "\n",
    "The code above illustrates the concepts we were discussing but is much slower than\n",
    "necessary.\n",
    "\n",
    "Below is a version of our function that uses numpy arrays to perform computations\n",
    "instead of only storing the values."
   ]
  },
  {
   "cell_type": "code",
   "execution_count": 11,
   "id": "e4c65772",
   "metadata": {
    "hide-output": false
   },
   "outputs": [
    {
     "data": {
      "text/plain": [
       "20214.285714285714"
      ]
     },
     "execution_count": 11,
     "metadata": {},
     "output_type": "execute_result"
    }
   ],
   "source": [
    "def simulate_loan_repayments(N, r=0.05, repayment_full=25_000.0,\n",
    "                             repayment_part=12_500.0):\n",
    "    \"\"\"\n",
    "    Simulate present value of N loans given values for discount rate and\n",
    "    repayment values\n",
    "    \"\"\"\n",
    "    random_numbers = np.random.rand(N)\n",
    "\n",
    "    # start as 0 -- no repayment\n",
    "    repayment_sims = np.zeros(N)\n",
    "\n",
    "    # adjust for full and partial repayment\n",
    "    partial = random_numbers <= 0.20\n",
    "    repayment_sims[partial] = repayment_part\n",
    "\n",
    "    full = ~partial & (random_numbers <= 0.95)\n",
    "    repayment_sims[full] = repayment_full\n",
    "\n",
    "    repayment_sims = (1 / (1 + r)) * repayment_sims\n",
    "\n",
    "    return repayment_sims\n",
    "\n",
    "np.mean(simulate_loan_repayments(25_000))"
   ]
  },
  {
   "cell_type": "markdown",
   "id": "67d836df",
   "metadata": {},
   "source": [
    "We’ll quickly demonstrate the time difference in running both function versions."
   ]
  },
  {
   "cell_type": "code",
   "execution_count": 12,
   "id": "64b7e332",
   "metadata": {
    "hide-output": false
   },
   "outputs": [
    {
     "name": "stdout",
     "output_type": "stream",
     "text": [
      "125 ms ± 2.71 ms per loop (mean ± std. dev. of 7 runs, 10 loops each)\n"
     ]
    }
   ],
   "source": [
    "%timeit simulate_loan_repayments_slow(250_000)"
   ]
  },
  {
   "cell_type": "code",
   "execution_count": 13,
   "id": "a8f8c3f7",
   "metadata": {
    "hide-output": false
   },
   "outputs": [
    {
     "name": "stdout",
     "output_type": "stream",
     "text": [
      "5.27 ms ± 204 µs per loop (mean ± std. dev. of 7 runs, 100 loops each)\n"
     ]
    }
   ],
   "source": [
    "%timeit simulate_loan_repayments(250_000)"
   ]
  },
  {
   "cell_type": "markdown",
   "id": "79364221",
   "metadata": {},
   "source": [
    "The timings for my computer were 167 ms for `simulate_loan_repayments_slow` and 5.05 ms for\n",
    "`simulate_loan_repayments`.\n",
    "\n",
    "This function is simple enough that both times are acceptable, but the 33x time difference could\n",
    "matter in a more complicated operation.\n",
    "\n",
    "This illustrates a concept called *vectorization*, which is when computations\n",
    "operate on an entire array at a time.\n",
    "\n",
    "In general, numpy code that is *vectorized* will perform better than numpy code that operates on one\n",
    "element at a time.\n",
    "\n",
    "For more information see the\n",
    "[QuantEcon lecture on performance Python](https://python-programming.quantecon.org/numba.html) code."
   ]
  },
  {
   "cell_type": "markdown",
   "id": "b15b2326",
   "metadata": {},
   "source": [
    "#### Profitability Threshold\n",
    "\n",
    "Rather than looking for the break even point, we might be interested in the largest loan size that\n",
    "ensures we still have a 95% probability of profitability in a year we make 250 loans.\n",
    "\n",
    "This is something that could be computed by hand, but it is much easier to answer through\n",
    "simulation!\n",
    "\n",
    "If we simulate 250 loans many times and keep track of what the outcomes look like, then we can look\n",
    "at the the 5th percentile of total repayment to find the loan size needed for 95% probability of\n",
    "being profitable."
   ]
  },
  {
   "cell_type": "code",
   "execution_count": 14,
   "id": "024b8480",
   "metadata": {
    "hide-output": false
   },
   "outputs": [
    {
     "name": "stdout",
     "output_type": "stream",
     "text": [
      "The largest loan size such that we were profitable 95% of time is\n",
      "19523.809523809527\n"
     ]
    }
   ],
   "source": [
    "def simulate_year_of_loans(N=250, K=1000):\n",
    "\n",
    "    # Create array where we store the values\n",
    "    avg_repayments = np.zeros(K)\n",
    "    for year in range(K):\n",
    "\n",
    "        repaid_year = 0.0\n",
    "        n_loans = simulate_loan_repayments(N)\n",
    "        avg_repayments[year] = n_loans.mean()\n",
    "\n",
    "    return avg_repayments\n",
    "\n",
    "loan_repayment_outcomes = simulate_year_of_loans(N=250)\n",
    "\n",
    "# Think about why we use the 5th percentile of outcomes to\n",
    "# compute when we are profitable 95% of time\n",
    "lro_5 = np.percentile(loan_repayment_outcomes, 5)\n",
    "\n",
    "print(\"The largest loan size such that we were profitable 95% of time is\")\n",
    "print(lro_5)"
   ]
  },
  {
   "cell_type": "markdown",
   "id": "f3c7fb2f",
   "metadata": {},
   "source": [
    "Now let’s consider what we could learn if our loan company had even more detailed information about\n",
    "how the life of their loans progressed."
   ]
  },
  {
   "cell_type": "markdown",
   "id": "92dfc1b5",
   "metadata": {},
   "source": [
    "#### Loan States\n",
    "\n",
    "Loans can have 3 potential statuses (or states):\n",
    "\n",
    "1. Repaying: Payments are being made on loan.  \n",
    "1. Delinquency: No payments are currently being made, but they might be made in the future.  \n",
    "1. Default: No payments are currently being made and no more payments will be made in future.  \n",
    "\n",
    "\n",
    "The small business loans company knows the following:\n",
    "\n",
    "- If a loan is currently in repayment, then it has an 85% probability of continuing being repaid, a\n",
    "  10% probability of going into delinquency, and a 5% probability of going into default.  \n",
    "- If a loan is currently in delinquency, then it has a 25% probability of returning to repayment, a\n",
    "  60% probability of staying delinquent, and a 15% probability of going into default.  \n",
    "- If a loan is currently in default, then it remains in default with 100% probability.  \n",
    "\n",
    "\n",
    "For simplicity, let’s imagine that 12 payments are made during the life of a loan, even though\n",
    "this means people who experience delinquency won’t be required to repay their remaining balance.\n",
    "\n",
    "Let’s write the code required to perform this dynamic simulation."
   ]
  },
  {
   "cell_type": "code",
   "execution_count": 15,
   "id": "0211ddcc",
   "metadata": {
    "hide-output": false
   },
   "outputs": [],
   "source": [
    "def simulate_loan_lifetime(monthly_payment):\n",
    "\n",
    "    # Create arrays to store outputs\n",
    "    payments = np.zeros(12)\n",
    "    # Note: dtype 'U12' means a string with no more than 12 characters\n",
    "    statuses = np.array(4*[\"repaying\", \"delinquency\", \"default\"], dtype=\"U12\")\n",
    "\n",
    "    # Everyone is repaying during their first month\n",
    "    payments[0] = monthly_payment\n",
    "    statuses[0] = \"repaying\"\n",
    "\n",
    "    for month in range(1, 12):\n",
    "        rn = np.random.rand()\n",
    "\n",
    "        if (statuses[month-1] == \"repaying\"):\n",
    "            if rn < 0.85:\n",
    "                payments[month] = monthly_payment\n",
    "                statuses[month] = \"repaying\"\n",
    "            elif rn < 0.95:\n",
    "                payments[month] = 0.0\n",
    "                statuses[month] = \"delinquency\"\n",
    "            else:\n",
    "                payments[month] = 0.0\n",
    "                statuses[month] = \"default\"\n",
    "        elif (statuses[month-1] == \"delinquency\"):\n",
    "            if rn < 0.25:\n",
    "                payments[month] = monthly_payment\n",
    "                statuses[month] = \"repaying\"\n",
    "            elif rn < 0.85:\n",
    "                payments[month] = 0.0\n",
    "                statuses[month] = \"delinquency\"\n",
    "            else:\n",
    "                payments[month] = 0.0\n",
    "                statuses[month] = \"default\"\n",
    "        else:  # Default -- Stays in default after it gets there\n",
    "            payments[month] = 0.0\n",
    "            statuses[month] = \"default\"\n",
    "\n",
    "    return payments, statuses"
   ]
  },
  {
   "cell_type": "markdown",
   "id": "1a8104e6",
   "metadata": {},
   "source": [
    "We can use this model of the world to answer even more questions than the last model!\n",
    "\n",
    "For example, we can think about things like\n",
    "\n",
    "- For the defaulted loans, how many payments did they make before going into default?  \n",
    "- For those who partially repaid, how much was repaid before the 12 months was over?  \n",
    "\n",
    "\n",
    "Unbeknownst to you, we have just introduced a well-known mathematical concept known as a Markov\n",
    "chain.\n",
    "\n",
    "A Markov chain is a random process (Note: Random process is a sequence of random variables\n",
    "observed over time) where the probability of something happening tomorrow only depends on what we\n",
    "can observe today.\n",
    "\n",
    "In our small business loan example, this just means that the small business loan’s repayment status\n",
    "tomorrow only depended on what its repayment status was today.\n",
    "\n",
    "Markov chains often show up in economics and statistics, so we decided a simple introduction would\n",
    "be helpful, but we leave out many details for the interested reader to find.\n",
    "\n",
    "A Markov chain is defined by three objects:\n",
    "\n",
    "1. A description of the possible states and their associated value.  \n",
    "1. A complete description of the probability of moving from one state to all other states.  \n",
    "1. An initial distribution over the states (often a vector of all zeros except for a single 1 for\n",
    "  some particular state).  \n",
    "\n",
    "\n",
    "For the example above, we’ll define each of these three things in the Python code below."
   ]
  },
  {
   "cell_type": "code",
   "execution_count": 16,
   "id": "5d3b0626",
   "metadata": {
    "hide-output": false
   },
   "outputs": [],
   "source": [
    "# 1. State description\n",
    "state_values = [\"repaying\", \"delinquency\", \"default\"]\n",
    "\n",
    "# 2. Transition probabilities: encoded in a matrix (2d-array) where element [i, j]\n",
    "# is the probability of moving from state i to state j\n",
    "P = np.array([[0.85, 0.1, 0.05], [0.25, 0.6, 0.15], [0, 0, 1]])\n",
    "\n",
    "# 3. Initial distribution: assume loans start in repayment\n",
    "x0 = np.array([1, 0, 0])"
   ]
  },
  {
   "cell_type": "markdown",
   "id": "9704c3c5",
   "metadata": {},
   "source": [
    "Now that we have these objects defined, we can use the a `MarkovChain` class from the\n",
    "[quantecon python library](https://github.com/QuantEcon/QuantEcon.py/) to analyze this model."
   ]
  },
  {
   "cell_type": "code",
   "execution_count": 17,
   "id": "8ec643ee",
   "metadata": {},
   "outputs": [],
   "source": [
    "import quantecon as qe"
   ]
  },
  {
   "cell_type": "code",
   "execution_count": 18,
   "id": "a83a17bc",
   "metadata": {
    "hide-output": false
   },
   "outputs": [],
   "source": [
    "mc = qe.markov.MarkovChain(P, state_values)"
   ]
  },
  {
   "cell_type": "markdown",
   "id": "b3d74480",
   "metadata": {},
   "source": [
    "We can use the `mc` object to do common Markov chain operations.\n",
    "\n",
    "The `simulate` method will simulate the Markov chain for a specified number of steps:"
   ]
  },
  {
   "cell_type": "code",
   "execution_count": 19,
   "id": "4957f553",
   "metadata": {
    "hide-output": false
   },
   "outputs": [
    {
     "data": {
      "text/plain": [
       "array(['repaying', 'default', 'default', 'default', 'default', 'default',\n",
       "       'default', 'default', 'default', 'default', 'default', 'default'],\n",
       "      dtype='<U11')"
      ]
     },
     "execution_count": 19,
     "metadata": {},
     "output_type": "execute_result"
    }
   ],
   "source": [
    "mc.simulate(12, init=\"repaying\")"
   ]
  },
  {
   "cell_type": "markdown",
   "id": "bfa2c2c4",
   "metadata": {},
   "source": [
    "Suppose we were to simulate the Markov chain for an infinite number of steps.\n",
    "\n",
    "Given the random nature of transitions, we might end up taking different paths at any given moment.\n",
    "\n",
    "We can summarize all possible paths over time by keeping track of a distribution.\n",
    "\n",
    "Below, we will print out the distribution for the first 10 time steps,\n",
    "starting from a distribution where the debtor is repaying in the first step."
   ]
  },
  {
   "cell_type": "code",
   "execution_count": 20,
   "id": "e7a64e99",
   "metadata": {
    "hide-output": false
   },
   "outputs": [
    {
     "name": "stdout",
     "output_type": "stream",
     "text": [
      "At time 0 the distribution is [1 0 0]\n",
      "At time 1 the distribution is [0.85 0.1  0.05]\n",
      "At time 2 the distribution is [0.7475 0.145  0.1075]\n",
      "At time 3 the distribution is [0.671625 0.16175  0.166625]\n",
      "At time 4 the distribution is [0.61131875 0.1642125  0.22446875]\n",
      "At time 5 the distribution is [0.56067406 0.15965937 0.27966656]\n",
      "At time 6 the distribution is [0.5164878  0.15186303 0.33164917]\n",
      "At time 7 the distribution is [0.47698039 0.1427666  0.38025302]\n",
      "At time 8 the distribution is [0.44112498 0.133358   0.42551703]\n",
      "At time 9 the distribution is [0.40829573 0.1241273  0.46757697]\n",
      "At time 10 the distribution is [0.37808319 0.11530595 0.50661085]\n",
      "At time 11 the distribution is [0.3501972  0.10699189 0.54281091]\n",
      "At time 12 the distribution is [0.32441559 0.09921485 0.57636955]\n",
      "At time 13 the distribution is [0.30055697 0.09197047 0.60747256]\n",
      "At time 14 the distribution is [0.27846604 0.08523798 0.63629598]\n",
      "At time 15 the distribution is [0.25800563 0.07898939 0.66300498]\n",
      "At time 16 the distribution is [0.23905213 0.0731942  0.68775367]\n",
      "At time 17 the distribution is [0.22149286 0.06782173 0.7106854 ]\n",
      "At time 18 the distribution is [0.20522437 0.06284233 0.73193331]\n",
      "At time 19 the distribution is [0.19015129 0.05822783 0.75162087]\n",
      "At time 20 the distribution is [0.17618556 0.05395183 0.76986261]\n",
      "At time 21 the distribution is [0.16324568 0.04998965 0.78676467]\n",
      "At time 22 the distribution is [0.15125624 0.04631836 0.8024254 ]\n",
      "At time 23 the distribution is [0.1401474  0.04291664 0.81693596]\n",
      "At time 24 the distribution is [0.12985445 0.03976472 0.83038083]\n",
      "At time 25 the distribution is [0.12031746 0.03684428 0.84283826]\n",
      "At time 26 the distribution is [0.11148091 0.03413831 0.85438078]\n",
      "At time 27 the distribution is [0.10329335 0.03163108 0.86507557]\n",
      "At time 28 the distribution is [0.09570712 0.02930798 0.8749849 ]\n",
      "At time 29 the distribution is [0.08867805 0.0271555  0.88416645]\n",
      "At time 30 the distribution is [0.08216522 0.02516111 0.89267368]\n",
      "At time 31 the distribution is [0.07613071 0.02331318 0.90055611]\n",
      "At time 32 the distribution is [0.0705394  0.02160098 0.90785962]\n",
      "At time 33 the distribution is [0.06535874 0.02001453 0.91462674]\n",
      "At time 34 the distribution is [0.06055856 0.01854459 0.92089685]\n",
      "At time 35 the distribution is [0.05611092 0.01718261 0.92670647]\n",
      "At time 36 the distribution is [0.05198994 0.01592066 0.93208941]\n",
      "At time 37 the distribution is [0.04817161 0.01475139 0.937077  ]\n",
      "At time 38 the distribution is [0.04463372 0.01366799 0.94169829]\n",
      "At time 39 the distribution is [0.04135566 0.01266417 0.94598018]\n",
      "At time 40 the distribution is [0.03831835 0.01173407 0.94994758]\n",
      "At time 41 the distribution is [0.03550411 0.01087227 0.95362361]\n",
      "At time 42 the distribution is [0.03289657 0.01007378 0.95702966]\n",
      "At time 43 the distribution is [0.03048053 0.00933392 0.96018555]\n",
      "At time 44 the distribution is [0.02824193 0.00864841 0.96310967]\n",
      "At time 45 the distribution is [0.02616774 0.00801324 0.96581902]\n",
      "At time 46 the distribution is [0.02424589 0.00742472 0.9683294 ]\n",
      "At time 47 the distribution is [0.02246518 0.00687942 0.9706554 ]\n",
      "At time 48 the distribution is [0.02081526 0.00637417 0.97281057]\n",
      "At time 49 the distribution is [0.01928651 0.00590603 0.97480746]\n",
      "At time 50 the distribution is [0.01787004 0.00547227 0.97665769]\n",
      "At time 51 the distribution is [0.0165576  0.00507037 0.97837203]\n",
      "At time 52 the distribution is [0.01534155 0.00469798 0.97996047]\n",
      "At time 53 the distribution is [0.01421482 0.00435294 0.98143224]\n",
      "At time 54 the distribution is [0.01317083 0.00403325 0.98279592]\n",
      "At time 55 the distribution is [0.01220352 0.00373703 0.98405945]\n",
      "At time 56 the distribution is [0.01130725 0.00346257 0.98523018]\n",
      "At time 57 the distribution is [0.0104768  0.00320827 0.98631493]\n",
      "At time 58 the distribution is [0.00970735 0.00297264 0.98732001]\n",
      "At time 59 the distribution is [0.00899441 0.00275432 0.98825127]\n",
      "At time 60 the distribution is [0.00833383 0.00255203 0.98911414]\n",
      "At time 61 the distribution is [0.00772176 0.0023646  0.98991364]\n",
      "At time 62 the distribution is [0.00715465 0.00219094 0.99065442]\n",
      "At time 63 the distribution is [0.00662918 0.00203003 0.99134079]\n",
      "At time 64 the distribution is [0.00614231 0.00188093 0.99197675]\n",
      "At time 65 the distribution is [0.0056912  0.00174279 0.99256601]\n",
      "At time 66 the distribution is [0.00527322 0.0016148  0.99311199]\n",
      "At time 67 the distribution is [0.00488593 0.0014962  0.99361787]\n",
      "At time 68 the distribution is [0.00452709 0.00138631 0.99408659]\n",
      "At time 69 the distribution is [0.00419461 0.0012845  0.9945209 ]\n",
      "At time 70 the distribution is [0.00388654 0.00119016 0.9949233 ]\n",
      "At time 71 the distribution is [0.0036011  0.00110275 0.99529615]\n",
      "At time 72 the distribution is [0.00333662 0.00102176 0.99564162]\n",
      "At time 73 the distribution is [3.09156844e-03 9.46717942e-04 9.95961714e-01]\n",
      "At time 74 the distribution is [2.86451266e-03 8.77187609e-04 9.96258300e-01]\n",
      "At time 75 the distribution is [2.65413267e-03 8.12763832e-04 9.96533104e-01]\n",
      "At time 76 the distribution is [2.45920372e-03 7.53071566e-04 9.96787725e-01]\n",
      "At time 77 the distribution is [2.27859106e-03 6.97763312e-04 9.97023646e-01]\n",
      "At time 78 the distribution is [2.11124323e-03 6.46517093e-04 9.97242240e-01]\n",
      "At time 79 the distribution is [1.95618601e-03 5.99034578e-04 9.97444779e-01]\n",
      "At time 80 the distribution is [1.81251676e-03 5.55039348e-04 9.97632444e-01]\n",
      "At time 81 the distribution is [1.67939908e-03 5.14275285e-04 9.97806326e-01]\n",
      "At time 82 the distribution is [1.55605804e-03 4.76505079e-04 9.97967437e-01]\n",
      "At time 83 the distribution is [1.44177560e-03 4.41508851e-04 9.98116716e-01]\n",
      "At time 84 the distribution is [1.33588648e-03 4.09082871e-04 9.98255031e-01]\n",
      "At time 85 the distribution is [1.23777422e-03 3.79038370e-04 9.98383187e-01]\n",
      "At time 86 the distribution is [1.14686768e-03 3.51200444e-04 9.98501932e-01]\n",
      "At time 87 the distribution is [1.06263764e-03 3.25407035e-04 9.98611955e-01]\n",
      "At time 88 the distribution is [9.84593753e-04 3.01507985e-04 9.98713898e-01]\n",
      "At time 89 the distribution is [9.12281686e-04 2.79364166e-04 9.98808354e-01]\n",
      "At time 90 the distribution is [8.45280475e-04 2.58846668e-04 9.98895873e-01]\n",
      "At time 91 the distribution is [7.83200071e-04 2.39836049e-04 9.98976964e-01]\n",
      "At time 92 the distribution is [7.25679072e-04 2.22221636e-04 9.99052099e-01]\n",
      "At time 93 the distribution is [6.72382620e-04 2.05900889e-04 9.99121716e-01]\n",
      "At time 94 the distribution is [6.23000450e-04 1.90778795e-04 9.99186221e-01]\n",
      "At time 95 the distribution is [5.77245081e-04 1.76767322e-04 9.99245988e-01]\n",
      "At time 96 the distribution is [5.34850149e-04 1.63784901e-04 9.99301365e-01]\n",
      "At time 97 the distribution is [4.95568852e-04 1.51755956e-04 9.99352675e-01]\n",
      "At time 98 the distribution is [4.59172513e-04 1.40610459e-04 9.99400217e-01]\n",
      "At time 99 the distribution is [4.25449251e-04 1.30283527e-04 9.99444267e-01]\n"
     ]
    }
   ],
   "source": [
    "x = x0\n",
    "for t in range(100):\n",
    "    print(f\"At time {t} the distribution is {x}\")\n",
    "    x = mc.P.T @ x"
   ]
  },
  {
   "cell_type": "markdown",
   "id": "5498cf38",
   "metadata": {},
   "source": [
    "#### Exercise\n",
    "\n",
    "See exercise 2 in the [exercise list](#ex3-4)."
   ]
  },
  {
   "cell_type": "markdown",
   "id": "79f12552",
   "metadata": {},
   "source": [
    "#### Exercise\n",
    "\n",
    "See exercise 3 in the [exercise list](#ex3-4)."
   ]
  },
  {
   "cell_type": "markdown",
   "id": "297b3641",
   "metadata": {},
   "source": [
    "### Continuous Distributions\n",
    "\n",
    "Recall that a continuous distribution is one where the value can take on an uncountable number of values.\n",
    "\n",
    "It differs from a discrete distribution in that the events are not\n",
    "countable.\n",
    "\n",
    "We can use simulation to learn things about continuous distributions as we did with discrete\n",
    "distributions.\n",
    "\n",
    "Let’s use simulation to study what is arguably the most commonly encountered\n",
    "distributions – the normal distribution.\n",
    "\n",
    "The Normal (sometimes referred to as the Gaussian distribution) is bell-shaped and completely\n",
    "described by the mean and variance of that distribution.\n",
    "\n",
    "The mean is often referred to as $ \\mu $ and the variance as $ \\sigma^2 $.\n",
    "\n",
    "Let’s take a look at the normal distribution."
   ]
  },
  {
   "cell_type": "code",
   "execution_count": 21,
   "id": "56f080d0",
   "metadata": {
    "hide-output": false
   },
   "outputs": [
    {
     "data": {
      "text/plain": [
       "[<matplotlib.lines.Line2D at 0x1d09b4c1490>]"
      ]
     },
     "execution_count": 21,
     "metadata": {},
     "output_type": "execute_result"
    },
    {
     "data": {
      "image/png": "[encoded data removed]",
      "text/plain": [
       "<Figure size 432x288 with 1 Axes>"
      ]
     },
     "metadata": {
      "needs_background": "light"
     },
     "output_type": "display_data"
    }
   ],
   "source": [
    "# scipy is an extension of numpy, and the stats\n",
    "# subpackage has tools for working with various probability distributions\n",
    "import scipy.stats as st\n",
    "\n",
    "x = np.linspace(-5, 5, 100)\n",
    "\n",
    "# NOTE: first argument to st.norm is mean, second is standard deviation sigma (not sigma^2)\n",
    "pdf_x = st.norm(0.0, 1.0).pdf(x)\n",
    "\n",
    "fig, ax = plt.subplots()\n",
    "\n",
    "ax.set_title(r\"Normal Distribution ($\\mu = 0, \\sigma = 1$)\")\n",
    "ax.plot(x, pdf_x)"
   ]
  },
  {
   "cell_type": "markdown",
   "id": "442abab8",
   "metadata": {},
   "source": [
    "Another common continuous distribution used in economics is the gamma distribution.\n",
    "\n",
    "A gamma distribution is defined for all positive numbers and described by both a shape\n",
    "parameter $ k $ and a scale parameter $ \\theta $.\n",
    "\n",
    "Let’s see what the distribution looks like for various choices of $ k $ and $ \\theta $."
   ]
  },
  {
   "cell_type": "code",
   "execution_count": 22,
   "id": "64eda05c",
   "metadata": {
    "hide-output": false
   },
   "outputs": [
    {
     "data": {
      "image/png": "[encoded data removed]",
      "text/plain": [
       "<Figure size 720x432 with 1 Axes>"
      ]
     },
     "metadata": {
      "needs_background": "light"
     },
     "output_type": "display_data"
    }
   ],
   "source": [
    "def plot_gamma(k, theta, x, ax=None):\n",
    "    if ax is None:\n",
    "        _, ax = plt.subplots()\n",
    "\n",
    "    # scipy refers to the rate parameter beta as a scale parameter\n",
    "    pdf_x = st.gamma(k, scale=theta).pdf(x)\n",
    "    ax.plot(x, pdf_x, label=f\"k = {k}  theta = {theta}\")\n",
    "\n",
    "    return ax\n",
    "\n",
    "fig, ax = plt.subplots(figsize=(10, 6))\n",
    "x = np.linspace(0.1, 20, 130)\n",
    "plot_gamma(2.0, 1.0, x, ax)\n",
    "plot_gamma(3.0, 1.0, x, ax)\n",
    "plot_gamma(3.0, 2.0, x, ax)\n",
    "plot_gamma(3.0, 0.5, x, ax)\n",
    "ax.set_ylim((0, 0.6))\n",
    "ax.set_xlim((0, 20))\n",
    "ax.legend();"
   ]
  },
  {
   "cell_type": "markdown",
   "id": "94d93279",
   "metadata": {},
   "source": [
    "### Exercise\n",
    "\n",
    "See exercise 4 in the [exercise list](#ex3-4).\n",
    "\n",
    "\n",
    "<a id='ex3-4'></a>"
   ]
  },
  {
   "cell_type": "markdown",
   "id": "68709859",
   "metadata": {},
   "source": [
    "## Exercises"
   ]
  },
  {
   "cell_type": "markdown",
   "id": "4b5a41bf",
   "metadata": {},
   "source": [
    "### Exercise 1\n",
    "\n",
    "Wikipedia and other credible statistics sources tell us that the mean and\n",
    "variance of the Uniform(0, 1) distribution are (1/2, 1/12) respectively.\n",
    "\n",
    "How could we check whether the numpy random numbers approximate these\n",
    "values?\n",
    "\n",
    "([back to text](#dir3-4-1))"
   ]
  },
  {
   "cell_type": "code",
   "execution_count": 23,
   "id": "baa3304d",
   "metadata": {},
   "outputs": [
    {
     "name": "stdout",
     "output_type": "stream",
     "text": [
      "Mean: 0.4983787797718646 \n",
      "Variance: 0.08354994499791535\n"
     ]
    }
   ],
   "source": [
    "temp = np.random.rand(100000)\n",
    "print(\"Mean:\", np.mean(temp), \"\\nVariance:\", np.var(temp))\n"
   ]
  },
  {
   "cell_type": "markdown",
   "id": "7af68c2a",
   "metadata": {},
   "source": [
    "### Exercise 2\n",
    "\n",
    "In this exercise, we explore the long-run, or stationary, distribution of the Markov chain.\n",
    "\n",
    "The stationary distribution of a Markov chain is the probability distribution that would\n",
    "result after an infinite number of steps *for any initial distribution*.\n",
    "\n",
    "Mathematically, a stationary distribution $ x $ is a distribution where $ x = P'x $.\n",
    "\n",
    "In the code cell below, use the `stationary_distributions` property of `mc` to\n",
    "determine the stationary distribution of our Markov chain.\n",
    "\n",
    "After doing your computation, think about the answer… think about why our transition\n",
    "probabilities must lead to this outcome."
   ]
  },
  {
   "cell_type": "code",
   "execution_count": 24,
   "id": "42eb55a9",
   "metadata": {
    "hide-output": false
   },
   "outputs": [
    {
     "name": "stdout",
     "output_type": "stream",
     "text": [
      "[[0. 0. 1.]]\n"
     ]
    }
   ],
   "source": [
    "# your code here\n",
    "print(mc.stationary_distributions)\n",
    "#due to the infinite number of steps taken, Markov chain eventually ends up at 'defaulting' probability which is \n",
    "#represented [0, 0, 1]"
   ]
  },
  {
   "cell_type": "code",
   "execution_count": 25,
   "id": "ddf69b7a",
   "metadata": {},
   "outputs": [
    {
     "data": {
      "text/plain": [
       "array([[0.85, 0.1 , 0.05],\n",
       "       [0.25, 0.6 , 0.15],\n",
       "       [0.  , 0.  , 1.  ]])"
      ]
     },
     "execution_count": 25,
     "metadata": {},
     "output_type": "execute_result"
    }
   ],
   "source": [
    "P"
   ]
  },
  {
   "cell_type": "code",
   "execution_count": 39,
   "id": "6e763e0d",
   "metadata": {},
   "outputs": [
    {
     "data": {
      "text/plain": [
       "array([[6.03131854e-34, 1.84694519e-34, 1.00000000e+00],\n",
       "       [4.61736299e-34, 1.41395556e-34, 1.00000000e+00],\n",
       "       [0.00000000e+00, 0.00000000e+00, 1.00000000e+00]])"
      ]
     },
     "execution_count": 39,
     "metadata": {},
     "output_type": "execute_result"
    }
   ],
   "source": [
    "np.linalg.matrix_power(P,1000)"
   ]
  },
  {
   "cell_type": "markdown",
   "id": "1693ea84",
   "metadata": {},
   "source": [
    "([back to text](#dir3-4-2))"
   ]
  },
  {
   "cell_type": "markdown",
   "id": "dc474a1d",
   "metadata": {},
   "source": [
    "### Exercise 3\n",
    "\n",
    "Let’s revisit the unemployment example from the [linear algebra lecture](https://datascience.quantecon.org/applied_linalg.html).\n",
    "\n",
    "We’ll repeat necessary details here.\n",
    "\n",
    "Consider an economy where in any given year, $ \\alpha = 5\\% $ of workers lose their jobs, and\n",
    "$ \\phi = 10\\% $ of unemployed workers find jobs.\n",
    "\n",
    "Initially, 90% of the 1,000,000 workers are employed.\n",
    "\n",
    "Also suppose that the average employed worker earns 10 dollars, while an unemployed worker\n",
    "earns 1 dollar per period.\n",
    "\n",
    "You now have four tasks:\n",
    "\n",
    "1. Represent this problem as a Markov chain by defining the three components defined above.  \n",
    "1. Construct an instance of the quantecon MarkovChain by using the objects defined in part 1.  \n",
    "1. Simulate the Markov chain 30 times for 50 time periods, and plot each chain over time (see\n",
    "  helper code below).  \n",
    "1. Determine the average long run payment for a worker in this setting  \n",
    "\n",
    "\n",
    "Think about the stationary distribution."
   ]
  },
  {
   "cell_type": "code",
   "execution_count": 52,
   "id": "351d383d",
   "metadata": {
    "hide-output": false
   },
   "outputs": [
    {
     "name": "stdout",
     "output_type": "stream",
     "text": [
      "Long-run average payment for workers jobs status is [[0.66666667 0.33333333]]\n"
     ]
    },
    {
     "data": {
      "image/png": "[encoded data removed]",
      "text/plain": [
       "<Figure size 720x576 with 1 Axes>"
      ]
     },
     "metadata": {
      "needs_background": "light"
     },
     "output_type": "display_data"
    }
   ],
   "source": [
    "# define components here\n",
    "\n",
    "jobs_states = [\"employed\", \"unemployed\"]\n",
    "\n",
    "jobs_P = np.array([[0.95, 0.05], [0.1, 0.9]])\n",
    "\n",
    "jobs_x0 = np.array([0.9, 0.1])\n",
    "\n",
    "# construct Markov chain\n",
    "\n",
    "jobs_mc = qe.markov.MarkovChain(jobs_P, jobs_states)\n",
    "\n",
    "# simulate (see docstring for how to do many repetitions of\n",
    "# the simulation in one function call)\n",
    "\n",
    "# jobs_x = jobs_x0\n",
    "# for t in range(100):\n",
    "#     print(f\"At time {t} the distribution is {jobs_x}\")\n",
    "#     jobs_x = jobs_mc.P.T @ jobs_x\n",
    "\n",
    "# help(jobs_mc.simulate)\n",
    "sim = jobs_mc.simulate(ts_length=50, init=\"employed\", num_reps=30)\n",
    "fig, ax = plt.subplots(figsize=(10, 8))\n",
    "# ax.plot(range(50), sim.T, alpha=0.4)\n",
    "for i in range(30):\n",
    "    ax.plot(range(50), sim[i].T, alpha=0.4)\n",
    "\n",
    "# Long-run average payment\n",
    "print(\"Long-run average payment for workers jobs status is\", jobs_mc.stationary_distributions)"
   ]
  },
  {
   "cell_type": "markdown",
   "id": "96463371",
   "metadata": {},
   "source": [
    "([back to text](#dir3-4-3))"
   ]
  },
  {
   "cell_type": "markdown",
   "id": "c9326d41",
   "metadata": {},
   "source": [
    "### Exercise 4\n",
    "\n",
    "Assume you have been given the opportunity to choose between one of three financial assets:\n",
    "\n",
    "You will be given the asset for free, allowed to hold it indefinitely, and keeping all payoffs.\n",
    "\n",
    "Also assume the assets’ payoffs are distributed as follows:\n",
    "\n",
    "1. Normal with $ \\mu = 10, \\sigma = 5 $  \n",
    "1. Gamma with $ k = 5.3, \\theta = 2 $  \n",
    "1. Gamma with $ k = 5, \\theta = 2 $  \n",
    "\n",
    "\n",
    "Use `scipy.stats` to answer the following questions:\n",
    "\n",
    "- Which asset has the highest average returns?  \n",
    "- Which asset has the highest median returns?  \n",
    "- Which asset has the lowest coefficient of variation (standard deviation divided by mean)?  \n",
    "- Which asset would you choose? Why?  \n",
    "\n",
    "\n",
    "There is not a single right answer here. Be creative\n",
    "and express your preferences."
   ]
  },
  {
   "cell_type": "code",
   "execution_count": 27,
   "id": "8a19fa6f",
   "metadata": {
    "hide-output": false
   },
   "outputs": [
    {
     "name": "stdout",
     "output_type": "stream",
     "text": [
      "Average returns: \n",
      "asset 1: 0.024995919271441406 \n",
      "asset 2: 0.024966361352411842 \n",
      "asset 3: 0.024976102238957656\n",
      "Median returns: \n",
      "asset 1: 0.0797884496959335 \n",
      "asset 2: 0.08960534326125232 \n",
      "asset 3: 0.08771613112924835\n",
      "Coefficient of variation: \n",
      "asset 1: 1.121280280687657 \n",
      "asset 2: 1.2844574900761891 \n",
      "asset 3: 1.318836829541505\n"
     ]
    },
    {
     "data": {
      "image/png": "[encoded data removed]",
      "text/plain": [
       "<Figure size 720x432 with 1 Axes>"
      ]
     },
     "metadata": {
      "needs_background": "light"
     },
     "output_type": "display_data"
    }
   ],
   "source": [
    "# your code here\n",
    "\n",
    "asset_x = np.linspace(-10, 30, 10000)\n",
    "\n",
    "# NOTE: first argument to st.norm is mean, second is standard deviation sigma (not sigma^2)\n",
    "\n",
    "pdf_asset1_x = st.norm(10.0, 5.0).pdf(asset_x)\n",
    "pdf_asset2_x = st.gamma(5.3, scale=2).pdf(asset_x)\n",
    "pdf_asset3_x = st.gamma(5, scale=2).pdf(asset_x)\n",
    "    \n",
    "fig, ax = plt.subplots(figsize=(10, 6))\n",
    "\n",
    "ax.set_title(\"Assets Payoffs\")\n",
    "plt1 = ax.plot(asset_x, pdf_asset1_x, label=\"$\\mu = 10,\\ \\sigma = 5$\" )\n",
    "plt2 = ax.plot(asset_x, pdf_asset2_x, label=f\"k = 5.3, theta = 2\")\n",
    "plt3 = ax.plot(asset_x, pdf_asset3_x, label=f\"k = 5, theta = 2\")\n",
    "ax.legend();\n",
    "\n",
    "print(\"Average returns:\", \"\\nasset 1:\", np.mean(pdf_asset1_x),\n",
    "      \"\\nasset 2:\", np.mean(pdf_asset2_x), \"\\nasset 3:\",np.mean(pdf_asset3_x))\n",
    "print(\"Median returns:\", \"\\nasset 1:\", plt1[0].get_ydata()[5000],\n",
    "      \"\\nasset 2:\", plt2[0].get_ydata()[5000], \"\\nasset 3:\",plt3[0].get_ydata()[5000])\n",
    "print(\"Coefficient of variation:\", \"\\nasset 1:\", np.std(pdf_asset1_x)/np.mean(pdf_asset1_x),\n",
    "      \"\\nasset 2:\", np.std(pdf_asset2_x)/np.mean(pdf_asset2_x), \"\\nasset 3:\", np.std(pdf_asset3_x)/np.mean(pdf_asset3_x))\n",
    "\n",
    "#I would choose asset 1 as despite it having the lowest median returns, it has the highest average returns and lowest\n",
    "#coefficient of variation."
   ]
  },
  {
   "cell_type": "markdown",
   "id": "6014b048",
   "metadata": {},
   "source": [
    "([back to text](#dir3-4-4))"
   ]
  }
 ],
 "metadata": {
  "date": 1627429659.5734048,
  "filename": "randomness.md",
  "interpreter": {
   "hash": "99e3b8c1b16f2730d4d67f23e07cf6d2d2f0b0a606d6099a75a6361260e98536"
  },
  "kernelspec": {
   "display_name": "Python 3 (ipykernel)",
   "language": "python",
   "name": "python3"
  },
  "language_info": {
   "codemirror_mode": {
    "name": "ipython",
    "version": 3
   },
   "file_extension": ".py",
   "mimetype": "text/x-python",
   "name": "python",
   "nbconvert_exporter": "python",
   "pygments_lexer": "ipython3",
   "version": "3.9.12"
  },
  "latex_envs": {
   "LaTeX_envs_menu_present": true,
   "autoclose": false,
   "autocomplete": false,
   "bibliofile": "smolyak.bib",
   "cite_by": "apalike",
   "current_citInitial": 1,
   "eqLabelWithNumbers": true,
   "eqNumInitial": 1,
   "hotkeys": {
    "equation": "Ctrl-E",
    "itemize": "Ctrl-I"
   },
   "labels_anchors": false,
   "latex_user_defs": false,
   "report_style_numbering": true,
   "user_envs_cfg": true
  },
  "title": "Randomness",
  "toc": {
   "base_numbering": 1,
   "nav_menu": {},
   "number_sections": true,
   "sideBar": true,
   "skip_h1_title": false,
   "title_cell": "Table of Contents",
   "title_sidebar": "Contents",
   "toc_cell": true,
   "toc_position": {
    "height": "calc(100% - 180px)",
    "left": "10px",
    "top": "150px",
    "width": "311px"
   },
   "toc_section_display": true,
   "toc_window_display": true
  }
 },
 "nbformat": 4,
 "nbformat_minor": 5
}
