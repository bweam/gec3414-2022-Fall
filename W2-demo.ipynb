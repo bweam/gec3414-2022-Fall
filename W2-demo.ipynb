{
 "cells": [
  {
   "cell_type": "markdown",
   "id": "2f1c8fbd",
   "metadata": {},
   "source": [
    "# 1 Header Level 1\n",
    "\n",
    "Below we assign the number (int) 2 to a variable ``x``:"
   ]
  },
  {
   "cell_type": "code",
   "execution_count": 4,
   "id": "200b8aa5",
   "metadata": {},
   "outputs": [
    {
     "data": {
      "text/plain": [
       "int"
      ]
     },
     "execution_count": 4,
     "metadata": {},
     "output_type": "execute_result"
    }
   ],
   "source": [
    "x = 2\n",
    "type(x)"
   ]
  },
  {
   "cell_type": "code",
   "execution_count": 5,
   "id": "685f9f2b",
   "metadata": {},
   "outputs": [
    {
     "data": {
      "text/plain": [
       "float"
      ]
     },
     "execution_count": 5,
     "metadata": {},
     "output_type": "execute_result"
    }
   ],
   "source": [
    "y = 2.0\n",
    "type(y)"
   ]
  },
  {
   "cell_type": "markdown",
   "id": "77699e06",
   "metadata": {},
   "source": [
    "# 2 Using the notebook to type mathematics\n",
    "\n",
    "This is an integral equation solving for variable $x$:\n",
    "\n",
    "$$\n",
    "x = \\int f(x)dx. \n",
    "$$"
   ]
  },
  {
   "cell_type": "markdown",
   "id": "7b6a62eb",
   "metadata": {},
   "source": [
    "# 3 Plotting and visualizing data"
   ]
  },
  {
   "cell_type": "code",
   "execution_count": 11,
   "id": "bd555ded",
   "metadata": {},
   "outputs": [],
   "source": [
    "import matplotlib.pyplot as plt\n",
    "import numpy as np"
   ]
  },
  {
   "cell_type": "markdown",
   "id": "2ae1a1da",
   "metadata": {},
   "source": [
    "Let's try this:\n",
    "\n",
    "1. Create an example of a set or array of numbers on the real lines.\n",
    "\n",
    "2. In particular, we want a finite subset of numbers between $0$ and $2\\pi$.\n",
    "\n",
    "3. We want to evaluate a function, say, the cosine function over this set of numbers."
   ]
  },
  {
   "cell_type": "code",
   "execution_count": 59,
   "id": "b50e6c9b",
   "metadata": {},
   "outputs": [],
   "source": [
    "# Step 1: Create a grid of 100 numbers between 0 and 2𝜋\n",
    "x = np.linspace(0.0, 6.0 * np.pi, 1000)"
   ]
  },
  {
   "cell_type": "code",
   "execution_count": 60,
   "id": "26b41ec0",
   "metadata": {},
   "outputs": [],
   "source": [
    "# Step 2: Evaluate the cosine fucntion over the sample points in x\n",
    "y = np.cos(x)"
   ]
  },
  {
   "cell_type": "markdown",
   "id": "9783addd",
   "metadata": {},
   "source": [
    "Let's now visualize the relation between x and y in a graph:"
   ]
  },
  {
   "cell_type": "code",
   "execution_count": 64,
   "id": "178512e7",
   "metadata": {},
   "outputs": [
    {
     "data": {
      "image/png": "[encoded data removed]",
      "text/plain": [
       "<Figure size 1008x288 with 1 Axes>"
      ]
     },
     "metadata": {
      "needs_background": "light"
     },
     "output_type": "display_data"
    }
   ],
   "source": [
    "plt.figure(figsize=(14,4))\n",
    "plt.plot(x, y, '-o')\n",
    "plt.xlabel(\"$x$\")\n",
    "plt.ylabel(\"$\\cos(x)$\")\n",
    "plt.show()"
   ]
  }
 ],
 "metadata": {
  "kernelspec": {
   "display_name": "Python 3 (ipykernel)",
   "language": "python",
   "name": "python3"
  },
  "language_info": {
   "codemirror_mode": {
    "name": "ipython",
    "version": 3
   },
   "file_extension": ".py",
   "mimetype": "text/x-python",
   "name": "python",
   "nbconvert_exporter": "python",
   "pygments_lexer": "ipython3",
   "version": "3.9.12"
  }
 },
 "nbformat": 4,
 "nbformat_minor": 5
}
