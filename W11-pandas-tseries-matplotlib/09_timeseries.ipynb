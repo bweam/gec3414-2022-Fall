{
 "cells": [
  {
   "cell_type": "markdown",
   "id": "4edaacb7",
   "metadata": {},
   "source": [
    "# Time series\n",
    "\n",
    "**Prerequisites**\n",
    "\n",
    "- [Python functions](https://datascience.quantecon.org/../python_fundamentals/functions.html)  \n",
    "- [GroupBy](https://datascience.quantecon.org/groupby.html)  \n",
    "\n",
    "\n",
    "**Outcomes**\n",
    "\n",
    "- Know how pandas handles dates  \n",
    "- Understand how to parse strings into `datetime` objects  \n",
    "- Know how to write dates as custom formatted strings  \n",
    "- Be able to access day, month, year, etc. for a `DateTimeIndex` and\n",
    "  a column with `dtype` `datetime`  \n",
    "- Understand both rolling and re-sampling operations and the difference\n",
    "  between the two  \n",
    "\n",
    "\n",
    "**Data**\n",
    "\n",
    "- Bitcoin to USD exchange rates from March 2014 to the present  "
   ]
  },
  {
   "cell_type": "code",
   "execution_count": null,
   "id": "83ceb7dd",
   "metadata": {
    "hide-output": false
   },
   "outputs": [],
   "source": [
    "# Uncomment following line to install on colab\n",
    "#! pip install "
   ]
  },
  {
   "cell_type": "code",
   "execution_count": null,
   "id": "2f141538",
   "metadata": {
    "hide-output": false
   },
   "outputs": [],
   "source": [
    "import os\n",
    "import pandas as pd\n",
    "import matplotlib.pyplot as plt\n",
    "import quandl\n",
    "\n",
    "# see section on API keys at end of lecture!\n",
    "quandl.ApiConfig.api_key = os.environ.get(\"QUANDL_AUTH\", \"Dn6BtVoBhzuKTuyo6hbp\")\n",
    "start_date = \"2014-05-01\"\n",
    "\n",
    "%matplotlib inline"
   ]
  },
  {
   "cell_type": "markdown",
   "id": "43224976",
   "metadata": {},
   "source": [
    "## Intro\n",
    "\n",
    "pandas has extensive support for handling dates and times.\n",
    "\n",
    "We will loosely refer to data with date or time information as time\n",
    "series data.\n",
    "\n",
    "In this lecture, we will cover the most useful parts of pandas’ time\n",
    "series functionality.\n",
    "\n",
    "Among these topics are:\n",
    "\n",
    "- Parsing strings as dates  \n",
    "- Writing `datetime` objects as (inverse operation of previous point)  \n",
    "- Extracting data from a DataFrame or Series with date information in\n",
    "  the index  \n",
    "- Shifting data through time (taking leads or lags)  \n",
    "- Re-sampling data to a different frequency and rolling operations  \n",
    "\n",
    "\n",
    "However, even more than with previous topics, we will skip a lot of the\n",
    "functionality pandas offers, and we urge you to refer to the [official\n",
    "documentation](https://pandas.pydata.org/pandas-docs/stable/timeseries.html)\n",
    "for more information."
   ]
  },
  {
   "cell_type": "markdown",
   "id": "77226fec",
   "metadata": {},
   "source": [
    "## Parsing Strings as Dates\n",
    "\n",
    "When working with time series data, we almost always receive the data\n",
    "with dates encoded as strings.\n",
    "\n",
    "Hopefully, the date strings follow a structured format or pattern.\n",
    "\n",
    "One common pattern is `YYYY-MM-DD`: 4 numbers for the year, 2 for the\n",
    "month, and 2 for the day with each section separated by a `-`.\n",
    "\n",
    "For example, we write Christmas day 2017 in this format as"
   ]
  },
  {
   "cell_type": "code",
   "execution_count": null,
   "id": "a323a074",
   "metadata": {
    "hide-output": false
   },
   "outputs": [],
   "source": [
    "christmas_str = \"2017-12-25\""
   ]
  },
  {
   "cell_type": "markdown",
   "id": "c06d9457",
   "metadata": {},
   "source": [
    "To convert a string into a time-aware object, we use the\n",
    "`pd.to_datetime` function."
   ]
  },
  {
   "cell_type": "code",
   "execution_count": null,
   "id": "975a70a1",
   "metadata": {
    "hide-output": false
   },
   "outputs": [],
   "source": [
    "christmas = pd.to_datetime(christmas_str)\n",
    "print(\"The type of christmas is\", type(christmas))\n",
    "christmas"
   ]
  },
  {
   "cell_type": "markdown",
   "id": "b907dded",
   "metadata": {},
   "source": [
    "The `pd.to_datetime` function is pretty smart at guessing the format\n",
    "of the date…"
   ]
  },
  {
   "cell_type": "code",
   "execution_count": null,
   "id": "058dfec3",
   "metadata": {
    "hide-output": false
   },
   "outputs": [],
   "source": [
    "for date in [\"December 25, 2017\", \"Dec. 25, 2017\",\n",
    "             \"Monday, Dec. 25, 2017\", \"25 Dec. 2017\", \"25th Dec. 2017\"]:\n",
    "    print(\"pandas interprets {} as {}\".format(date, pd.to_datetime(date)))"
   ]
  },
  {
   "cell_type": "markdown",
   "id": "cbe0b9c6",
   "metadata": {},
   "source": [
    "However, sometimes we will need to give pandas a hint.\n",
    "\n",
    "For example, that same time (midnight on Christmas) would be reported on\n",
    "an Amazon transaction report as"
   ]
  },
  {
   "cell_type": "code",
   "execution_count": null,
   "id": "de9ec9fd",
   "metadata": {
    "hide-output": false
   },
   "outputs": [],
   "source": [
    "christmas_amzn = \"2017-12-25T00:00:00+ 00 :00\""
   ]
  },
  {
   "cell_type": "markdown",
   "id": "ea2c6c16",
   "metadata": {},
   "source": [
    "If we try to pass this to `pd.to_datetime`, it will fail."
   ]
  },
  {
   "cell_type": "code",
   "execution_count": null,
   "id": "0462f873",
   "metadata": {
    "hide-output": false
   },
   "outputs": [],
   "source": [
    "pd.to_datetime(christmas_amzn)"
   ]
  },
  {
   "cell_type": "markdown",
   "id": "b089f208",
   "metadata": {},
   "source": [
    "To parse a date with this format, we need to specify the `format`\n",
    "argument for `pd.to_datetime`."
   ]
  },
  {
   "cell_type": "code",
   "execution_count": null,
   "id": "18cff591",
   "metadata": {
    "hide-output": false
   },
   "outputs": [],
   "source": [
    "amzn_strftime = \"%Y-%m-%dT%H:%M:%S+ 00 :00\"\n",
    "pd.to_datetime(christmas_amzn, format=amzn_strftime)"
   ]
  },
  {
   "cell_type": "markdown",
   "id": "d40cdcbf",
   "metadata": {},
   "source": [
    "Can you guess what `amzn_strftime` represents?\n",
    "\n",
    "Let’s take a closer look at `amzn_strftime` and `christmas_amzn`."
   ]
  },
  {
   "cell_type": "code",
   "execution_count": null,
   "id": "4e7eb511",
   "metadata": {
    "hide-output": false
   },
   "outputs": [],
   "source": [
    "print(amzn_strftime)\n",
    "print(christmas_amzn)"
   ]
  },
  {
   "cell_type": "markdown",
   "id": "e2b362cc",
   "metadata": {},
   "source": [
    "Notice that both of the strings have a similar form, but that instead of actual numerical values, `amzn_strftime` has *placeholders*.\n",
    "\n",
    "Specifically, anywhere the `%` shows up is a signal to the `pd.to_datetime`\n",
    "function that it is where relevant information is stored.\n",
    "\n",
    "For example, the `%Y` is a stand-in for a four digit year, `%m` is\n",
    "for 2 a digit month, and so on…\n",
    "\n",
    "The official [Python\n",
    "documentation](https://docs.python.org/3/library/datetime.html#strftime-and-strptime-behavior) contains a complete list of possible `%`something patterns that are accepted\n",
    "in the `format` argument."
   ]
  },
  {
   "cell_type": "markdown",
   "id": "a8354e97",
   "metadata": {},
   "source": [
    "## Exercise\n",
    "\n",
    "See exercise 1 in the [exercise list](#pd-tim-ex)."
   ]
  },
  {
   "cell_type": "markdown",
   "id": "94d3a1f2",
   "metadata": {},
   "source": [
    "### Multiple Dates\n",
    "\n",
    "If we have dates in a Series (e.g. column of DataFrame) or a list, we\n",
    "can pass the entire collection to `pd.to_datetime` and get a\n",
    "collection of dates back.\n",
    "\n",
    "We’ll just show an example of that here as the mechanics are the same as\n",
    "a single date."
   ]
  },
  {
   "cell_type": "code",
   "execution_count": null,
   "id": "bf7717ec",
   "metadata": {
    "hide-output": false
   },
   "outputs": [],
   "source": [
    "pd.to_datetime([\"2017-12-25\", \"2017-12-31\"])"
   ]
  },
  {
   "cell_type": "markdown",
   "id": "25f1a3f0",
   "metadata": {},
   "source": [
    "## Date Formatting\n",
    "\n",
    "We can use the `%`pattern format to have pandas write `datetime`\n",
    "objects as specially formatted strings using the `strftime` (string\n",
    "format time) method.\n",
    "\n",
    "For example,"
   ]
  },
  {
   "cell_type": "code",
   "execution_count": null,
   "id": "433050ef",
   "metadata": {
    "hide-output": false
   },
   "outputs": [],
   "source": [
    "christmas.strftime(\"We love %A %B %d (also written %c)\")"
   ]
  },
  {
   "cell_type": "markdown",
   "id": "47d3d615",
   "metadata": {},
   "source": [
    "## Exercise\n",
    "\n",
    "See exercise 2 in the [exercise list](#pd-tim-ex)."
   ]
  },
  {
   "cell_type": "markdown",
   "id": "c05af45d",
   "metadata": {},
   "source": [
    "## Extracting Data\n",
    "\n",
    "When the index of a DataFrame has date information and pandas\n",
    "recognizes the values as `datetime` values, we can leverage some\n",
    "convenient indexing features for extracting data.\n",
    "\n",
    "The flexibility of these features is best understood through example,\n",
    "so let’s load up some data and take a look."
   ]
  },
  {
   "cell_type": "code",
   "execution_count": null,
   "id": "6bc19157",
   "metadata": {
    "hide-output": false
   },
   "outputs": [],
   "source": [
    "btc_usd = quandl.get(\"BCHARTS/BITSTAMPUSD\", start_date=start_date)\n",
    "btc_usd.info()\n",
    "btc_usd.head()"
   ]
  },
  {
   "cell_type": "markdown",
   "id": "81bcda1b",
   "metadata": {},
   "source": [
    "Here, we have the Bitcoin (BTC) to US dollar (USD) exchange rate from\n",
    "March 2014 until today.\n",
    "\n",
    "Notice that the type of index is `DateTimeIndex`.\n",
    "\n",
    "This is the key that enables things like…\n",
    "\n",
    "Extracting all data for the year 2015 by passing `\"2015\"` to `.loc`."
   ]
  },
  {
   "cell_type": "code",
   "execution_count": null,
   "id": "f8bdf026",
   "metadata": {
    "hide-output": false
   },
   "outputs": [],
   "source": [
    "btc_usd.loc[\"2015\"]"
   ]
  },
  {
   "cell_type": "markdown",
   "id": "f2d0db86",
   "metadata": {},
   "source": [
    "We can also narrow down to specific months."
   ]
  },
  {
   "cell_type": "code",
   "execution_count": null,
   "id": "d576c708",
   "metadata": {
    "hide-output": false
   },
   "outputs": [],
   "source": [
    "# By month's name\n",
    "btc_usd.loc[\"August 2017\"]"
   ]
  },
  {
   "cell_type": "code",
   "execution_count": null,
   "id": "43e298db",
   "metadata": {
    "hide-output": false
   },
   "outputs": [],
   "source": [
    "# By month's number\n",
    "btc_usd.loc[\"08/2017\"]"
   ]
  },
  {
   "cell_type": "markdown",
   "id": "fb293631",
   "metadata": {},
   "source": [
    "Or even a day…"
   ]
  },
  {
   "cell_type": "code",
   "execution_count": null,
   "id": "d6628d09",
   "metadata": {
    "hide-output": false
   },
   "outputs": [],
   "source": [
    "# By date name\n",
    "btc_usd.loc[\"August 1, 2017\"]"
   ]
  },
  {
   "cell_type": "code",
   "execution_count": null,
   "id": "99622ffb",
   "metadata": {
    "hide-output": false
   },
   "outputs": [],
   "source": [
    "# By date number\n",
    "btc_usd.loc[\"08-01-2017\"]"
   ]
  },
  {
   "cell_type": "markdown",
   "id": "ae985af0",
   "metadata": {},
   "source": [
    "What can we pass as the `.loc` argument when we have a\n",
    "`DateTimeIndex`?\n",
    "\n",
    "Anything that can be converted to a `datetime` using\n",
    "`pd.to_datetime`, *without* having to specify the format argument.\n",
    "\n",
    "When that condition holds, pandas will return *all* rows whose date in\n",
    "the index “belong” to that date or period.\n",
    "\n",
    "We can also use the range shorthand notation to give a start and end\n",
    "date for selection."
   ]
  },
  {
   "cell_type": "code",
   "execution_count": null,
   "id": "719cebe0",
   "metadata": {
    "hide-output": false
   },
   "outputs": [],
   "source": [
    "btc_usd.loc[\"April 1, 2015\":\"April 10, 2015\"]"
   ]
  },
  {
   "cell_type": "markdown",
   "id": "ba76e3cc",
   "metadata": {},
   "source": [
    "## Exercise\n",
    "\n",
    "See exercise 3 in the [exercise list](#pd-tim-ex)."
   ]
  },
  {
   "cell_type": "markdown",
   "id": "d4d64395",
   "metadata": {},
   "source": [
    "## Accessing Date Properties\n",
    "\n",
    "Sometimes, we would like to directly access a part of the date/time.\n",
    "\n",
    "If our date/time information is in the index, we can to `df.index.XX`\n",
    "where `XX` is replaced by `year`, `month`, or whatever we would\n",
    "like to access."
   ]
  },
  {
   "cell_type": "code",
   "execution_count": null,
   "id": "4ed7d115",
   "metadata": {
    "hide-output": false
   },
   "outputs": [],
   "source": [
    "btc_usd.index.year"
   ]
  },
  {
   "cell_type": "code",
   "execution_count": null,
   "id": "9e2e43e4",
   "metadata": {
    "hide-output": false
   },
   "outputs": [],
   "source": [
    "btc_usd.index.day"
   ]
  },
  {
   "cell_type": "markdown",
   "id": "c4b3abd6",
   "metadata": {},
   "source": [
    "We can also do the same if the date/time information is stored in a\n",
    "column, but we have to use a slightly different syntax."
   ]
  },
  {
   "cell_type": "code",
   "execution_count": null,
   "id": "b29439e6",
   "metadata": {
    "hide-output": false
   },
   "outputs": [],
   "source": [
    "df[\"column_name\"].dt.XX"
   ]
  },
  {
   "cell_type": "code",
   "execution_count": null,
   "id": "247e32ff",
   "metadata": {
    "hide-output": false
   },
   "outputs": [],
   "source": [
    "btc_date_column = btc_usd.reset_index()\n",
    "btc_date_column.head()"
   ]
  },
  {
   "cell_type": "code",
   "execution_count": null,
   "id": "9e81f4d2",
   "metadata": {
    "hide-output": false
   },
   "outputs": [],
   "source": [
    "btc_date_column[\"Date\"].dt.year.head()"
   ]
  },
  {
   "cell_type": "code",
   "execution_count": null,
   "id": "edbd001f",
   "metadata": {
    "hide-output": false
   },
   "outputs": [],
   "source": [
    "btc_date_column[\"Date\"].dt.month.head()"
   ]
  },
  {
   "cell_type": "markdown",
   "id": "e3c26c7b",
   "metadata": {},
   "source": [
    "## Leads and Lags: `df.shift`\n",
    "\n",
    "When doing time series analysis, we often want to compare data at one\n",
    "date against data at another date.\n",
    "\n",
    "pandas can help us with this if we leverage the `shift` method.\n",
    "\n",
    "Without any additional arguments, `shift()` will move all data\n",
    "*forward* one period, filling the first row with missing data."
   ]
  },
  {
   "cell_type": "code",
   "execution_count": null,
   "id": "52388771",
   "metadata": {
    "hide-output": false
   },
   "outputs": [],
   "source": [
    "# so we can see the result of shift clearly\n",
    "btc_usd.head()"
   ]
  },
  {
   "cell_type": "code",
   "execution_count": null,
   "id": "d8c5d5f5",
   "metadata": {
    "hide-output": false
   },
   "outputs": [],
   "source": [
    "btc_usd.shift().head()"
   ]
  },
  {
   "cell_type": "markdown",
   "id": "05133a1e",
   "metadata": {},
   "source": [
    "We can use this to compute the percent change from one day to the next.\n",
    "(Quiz: Why does that work? Remember how pandas uses the index to *align*\n",
    "data.)"
   ]
  },
  {
   "cell_type": "code",
   "execution_count": null,
   "id": "7035a543",
   "metadata": {
    "hide-output": false
   },
   "outputs": [],
   "source": [
    "((btc_usd - btc_usd.shift()) / btc_usd.shift()).head()"
   ]
  },
  {
   "cell_type": "markdown",
   "id": "47bb34ff",
   "metadata": {},
   "source": [
    "Setting the first argument to `n` tells pandas to shift the data down\n",
    "`n` rows (apply an `n` period lag)."
   ]
  },
  {
   "cell_type": "code",
   "execution_count": null,
   "id": "b3574ee5",
   "metadata": {
    "hide-output": false
   },
   "outputs": [],
   "source": [
    "btc_usd.shift(3).head()"
   ]
  },
  {
   "cell_type": "markdown",
   "id": "fc84d854",
   "metadata": {},
   "source": [
    "A negative value will shift the data *up* or apply a lead."
   ]
  },
  {
   "cell_type": "code",
   "execution_count": null,
   "id": "4d490372",
   "metadata": {
    "hide-output": false
   },
   "outputs": [],
   "source": [
    "btc_usd.shift(-2).head()"
   ]
  },
  {
   "cell_type": "code",
   "execution_count": null,
   "id": "d573e512",
   "metadata": {
    "hide-output": false
   },
   "outputs": [],
   "source": [
    "btc_usd.shift(-2).tail()"
   ]
  },
  {
   "cell_type": "markdown",
   "id": "ba457f8d",
   "metadata": {},
   "source": [
    "## Exercise\n",
    "\n",
    "See exercise 4 in the [exercise list](#pd-tim-ex)."
   ]
  },
  {
   "cell_type": "markdown",
   "id": "a6760b91",
   "metadata": {},
   "source": [
    "## Rolling Computations: `.rolling`\n",
    "\n",
    "pandas has facilities that enable easy computation of *rolling\n",
    "statistics*.\n",
    "\n",
    "These are best understood by example, so we will dive right in."
   ]
  },
  {
   "cell_type": "code",
   "execution_count": null,
   "id": "0ee5f443",
   "metadata": {
    "hide-output": false
   },
   "outputs": [],
   "source": [
    "# first take only the first 6 rows so we can easily see what is going on\n",
    "btc_small = btc_usd.head(6)\n",
    "btc_small"
   ]
  },
  {
   "cell_type": "markdown",
   "id": "5b208850",
   "metadata": {},
   "source": [
    "Below, we compute the 2 day moving average (for all columns)."
   ]
  },
  {
   "cell_type": "code",
   "execution_count": null,
   "id": "ec0f7467",
   "metadata": {
    "hide-output": false
   },
   "outputs": [],
   "source": [
    "btc_small.rolling(\"2d\").mean()"
   ]
  },
  {
   "cell_type": "markdown",
   "id": "85be7000",
   "metadata": {},
   "source": [
    "To do this operation, pandas starts at each row (date) then looks\n",
    "*backwards* the specified number of periods (here 2 days) and then\n",
    "applies some aggregation function (`mean`) on all the data in that\n",
    "window.\n",
    "\n",
    "If pandas cannot look back the full length of the window (e.g. when\n",
    "working on the first row), it fills as much of the window as possible\n",
    "and then does the operation. Notice that the value at 2014-05-01 is\n",
    "the same in both DataFrames.\n",
    "\n",
    "Below, we see a visual depiction of the rolling maximum on a 21 day\n",
    "window for the whole dataset."
   ]
  },
  {
   "cell_type": "code",
   "execution_count": null,
   "id": "236301f5",
   "metadata": {
    "hide-output": false
   },
   "outputs": [],
   "source": [
    "fig, ax = plt.subplots(figsize=(10, 4))\n",
    "btc_usd[\"Open\"].plot(ax=ax, linestyle=\"--\", alpha=0.8)\n",
    "btc_usd.rolling(\"21d\").max()[\"Open\"].plot(ax=ax, alpha=0.8, linewidth=3)\n",
    "ax.legend([\"Original\", \"21 day max\"])"
   ]
  },
  {
   "cell_type": "markdown",
   "id": "0365f170",
   "metadata": {},
   "source": [
    "We can also ask pandas to `apply` custom functions, similar to what we\n",
    "saw when studying GroupBy."
   ]
  },
  {
   "cell_type": "code",
   "execution_count": null,
   "id": "b1ca9a60",
   "metadata": {
    "hide-output": false
   },
   "outputs": [],
   "source": [
    "def is_volatile(x):\n",
    "    \"Returns a 1 if the variance is greater than 1, otherwise returns 0\"\n",
    "    if x.var() > 1.0:\n",
    "        return 1.0\n",
    "    else:\n",
    "        return 0.0"
   ]
  },
  {
   "cell_type": "code",
   "execution_count": null,
   "id": "a3eaff98",
   "metadata": {
    "hide-output": false
   },
   "outputs": [],
   "source": [
    "btc_small.rolling(\"2d\").apply(is_volatile)"
   ]
  },
  {
   "cell_type": "markdown",
   "id": "2e409242",
   "metadata": {},
   "source": [
    "## Exercise\n",
    "\n",
    "See exercise 5 in the [exercise list](#pd-tim-ex).\n",
    "\n",
    "To make the optimal decision, we need to know the maximum\n",
    "difference between the close price at the end of the window and the open\n",
    "price at the start of the window."
   ]
  },
  {
   "cell_type": "markdown",
   "id": "3831fe98",
   "metadata": {},
   "source": [
    "## Exercise\n",
    "\n",
    "See exercise 6 in the [exercise list](#pd-tim-ex)."
   ]
  },
  {
   "cell_type": "markdown",
   "id": "76edc73c",
   "metadata": {},
   "source": [
    "## Changing Frequencies: `.resample`\n",
    "\n",
    "In addition to computing rolling statistics, we can also change the\n",
    "frequency of the data.\n",
    "\n",
    "For example, instead of a monthly moving average, suppose that we wanted\n",
    "to compute the average *within* each calendar month.\n",
    "\n",
    "We will use the `resample` method to do this.\n",
    "\n",
    "Below are some examples."
   ]
  },
  {
   "cell_type": "code",
   "execution_count": null,
   "id": "4e6a23d9",
   "metadata": {
    "hide-output": false
   },
   "outputs": [],
   "source": [
    "# business quarter\n",
    "btc_usd.resample(\"BQ\").mean()"
   ]
  },
  {
   "cell_type": "markdown",
   "id": "3544399b",
   "metadata": {},
   "source": [
    "Note that unlike with `rolling`, a single number is returned for\n",
    "each column for each quarter.\n",
    "\n",
    "The `resample` method will alter the frequency of the data and the\n",
    "number of rows in the result will be different from the number of rows\n",
    "in the input.\n",
    "\n",
    "On the other hand, with `rolling`, the size and frequency of the result\n",
    "are the same as the input.\n",
    "\n",
    "We can sample at other frequencies and aggregate with multiple aggregations\n",
    "function at once."
   ]
  },
  {
   "cell_type": "code",
   "execution_count": null,
   "id": "9b0a9207",
   "metadata": {
    "hide-output": false
   },
   "outputs": [],
   "source": [
    "# multiple functions at 2 start-of-quarter frequency\n",
    "btc_usd.resample(\"2BQS\").agg([\"min\", \"max\"])"
   ]
  },
  {
   "cell_type": "markdown",
   "id": "ee7d9c96",
   "metadata": {},
   "source": [
    "As with `groupby` and `rolling`, you can also provide custom\n",
    "functions to `.resample(...).agg` and `.resample(...).apply`"
   ]
  },
  {
   "cell_type": "markdown",
   "id": "99e9fead",
   "metadata": {},
   "source": [
    "## Exercise\n",
    "\n",
    "See exercise 7 in the [exercise list](#pd-tim-ex).\n",
    "\n",
    "To make the optimal decision we need to, for each month,\n",
    "compute the maximum value of the close price on any day minus the open\n",
    "price on the first day of the month."
   ]
  },
  {
   "cell_type": "markdown",
   "id": "0621bd97",
   "metadata": {},
   "source": [
    "## Exercise\n",
    "\n",
    "See exercise 8 in the [exercise list](#pd-tim-ex)."
   ]
  },
  {
   "cell_type": "markdown",
   "id": "ebfe274b",
   "metadata": {},
   "source": [
    "## Optional: API keys\n",
    "\n",
    "Recall above that we had the line of code:"
   ]
  },
  {
   "cell_type": "code",
   "execution_count": null,
   "id": "0135f6e9",
   "metadata": {
    "hide-output": false
   },
   "outputs": [],
   "source": [
    "quandl.ApiConfig.api_key = \"Dn6BtVoBhzuKTuyo6hbp\""
   ]
  },
  {
   "cell_type": "markdown",
   "id": "9639b06c",
   "metadata": {},
   "source": [
    "This line told the `quandl` library that when obtaining making requests for data, it should use the *API key* `Dn6BtVoBhzuKTuyo6hbp`.\n",
    "\n",
    "An API key is a sort of password that web services (like the Quandl API) require you to provide when you make requests.\n",
    "\n",
    "Using this password, we were able to make a request to Quandl to obtain data directly from them.\n",
    "\n",
    "The API key used here is one that we requested on behalf of this course.\n",
    "\n",
    "If you plan to use Quandl more extensively, you should obtain your own personal API key from [their website](https://docs.quandl.com/docs#section-authentication) and re-run the `quandl.ApiConfig.api_key...` line of code with your new API key on the right-hand side.\n",
    "\n",
    "\n",
    "<a id='pd-tim-ex'></a>"
   ]
  },
  {
   "cell_type": "markdown",
   "id": "67b92bee",
   "metadata": {},
   "source": [
    "## Exercises"
   ]
  },
  {
   "cell_type": "markdown",
   "id": "00f4f767",
   "metadata": {},
   "source": [
    "### Exercise 1\n",
    "\n",
    "By referring to table found at the link above, figure out the correct argument to\n",
    "pass as `format` in order to parse the dates in the next three cells below.\n",
    "\n",
    "Test your work by passing your format string to `pd.to_datetime`."
   ]
  },
  {
   "cell_type": "code",
   "execution_count": null,
   "id": "254148a1",
   "metadata": {
    "hide-output": false
   },
   "outputs": [],
   "source": [
    "christmas_str2 = \"2017:12:25\""
   ]
  },
  {
   "cell_type": "code",
   "execution_count": null,
   "id": "6e0588ab",
   "metadata": {
    "hide-output": false
   },
   "outputs": [],
   "source": [
    "dbacks_win = \"M:11 D:4 Y:2001 9:15 PM\""
   ]
  },
  {
   "cell_type": "code",
   "execution_count": null,
   "id": "7cc95306",
   "metadata": {
    "hide-output": false
   },
   "outputs": [],
   "source": [
    "america_bday = \"America was born on July 4, 1776\""
   ]
  },
  {
   "cell_type": "markdown",
   "id": "4d6ebb69",
   "metadata": {},
   "source": [
    "([back to text](#pd-tim-dir1))"
   ]
  },
  {
   "cell_type": "markdown",
   "id": "6af7ee81",
   "metadata": {},
   "source": [
    "### Exercise 2\n",
    "\n",
    "Use `pd.to_datetime` to express the birthday of one of your friends\n",
    "or family members as a `datetime` object.\n",
    "\n",
    "Then use the `strftime` method to write a message of the format:"
   ]
  },
  {
   "cell_type": "code",
   "execution_count": null,
   "id": "51c8017a",
   "metadata": {
    "hide-output": false
   },
   "outputs": [],
   "source": [
    "NAME's birthday is June 10, 1989 (a Saturday)"
   ]
  },
  {
   "cell_type": "markdown",
   "id": "70fa33ba",
   "metadata": {},
   "source": [
    "(where the name and date are replaced by the appropriate values)\n",
    "\n",
    "([back to text](#pd-tim-dir2))"
   ]
  },
  {
   "cell_type": "markdown",
   "id": "c3c0ac93",
   "metadata": {},
   "source": [
    "### Exercise 3\n",
    "\n",
    "For each item in the list, extract the specified data from `btc_usd`:\n",
    "\n",
    "- July 2017 through August 2017 (inclusive)  \n",
    "- April 25, 2015 to June 10, 2016  \n",
    "- October 31, 2017  \n",
    "\n",
    "\n",
    "([back to text](#pd-tim-dir3))"
   ]
  },
  {
   "cell_type": "markdown",
   "id": "58a6e773",
   "metadata": {},
   "source": [
    "### Exercise 4\n",
    "\n",
    "Using the `shift` function, determine the week with the largest percent change\n",
    "in the volume of trades (the `\"Volume (BTC)\"` column).\n",
    "\n",
    "Repeat the analysis at the bi-weekly and monthly frequencies.\n",
    "\n",
    "We have data at a *daily* frequency and one week is `7` days.\n",
    "\n",
    "Approximate a month by 30 days."
   ]
  },
  {
   "cell_type": "code",
   "execution_count": null,
   "id": "44c7bd23",
   "metadata": {
    "hide-output": false
   },
   "outputs": [],
   "source": [
    "# your code here"
   ]
  },
  {
   "cell_type": "markdown",
   "id": "40812981",
   "metadata": {},
   "source": [
    "([back to text](#pd-tim-dir4))"
   ]
  },
  {
   "cell_type": "markdown",
   "id": "a6f2fa65",
   "metadata": {},
   "source": [
    "### Exercise 5\n",
    "\n",
    "Imagine that you have access to the [DeLorean time machine](https://en.wikipedia.org/wiki/DeLorean_time_machine)\n",
    "from “Back to the Future”.\n",
    "\n",
    "You are allowed to use the DeLorean only once, subject to the following\n",
    "conditions:\n",
    "\n",
    "- You may travel back to any day in the past.  \n",
    "- On that day, you may purchase one bitcoin *at market open*.  \n",
    "- You can then take the time machine 30 days into the future and sell your bitcoin *at market close*.  \n",
    "- Then you return to the present, pocketing the profits.  \n",
    "\n",
    "\n",
    "How would you pick the day?\n",
    "\n",
    "Think carefully about what you would need to compute to make the\n",
    "optimal choice. Try writing it out in the markdown cell below so you\n",
    "have a clear description of the *want* operator that we will apply after\n",
    "the exercise.\n",
    "\n",
    "(Note: **Don’t** look too far below, because in the next non-empty cell\n",
    "we have written out our answer.)\n",
    "\n",
    "To make this decision, we want to know …\n",
    "\n",
    "**Your answer here**\n",
    "\n",
    "([back to text](#pd-tim-dir5))"
   ]
  },
  {
   "cell_type": "markdown",
   "id": "9b872b7f",
   "metadata": {},
   "source": [
    "### Exercise 6\n",
    "\n",
    "Do the following:\n",
    "\n",
    "1. Write a pandas function that implements your strategy.  \n",
    "1. Pass it to the `agg` method of `rolling_btc`.  \n",
    "1. Extract the `\"Open\"` column from the result.  \n",
    "1. Find the date associated with the maximum value in that column.  \n",
    "\n",
    "\n",
    "How much money did you make? Compare with your neighbor."
   ]
  },
  {
   "cell_type": "code",
   "execution_count": null,
   "id": "8fd0d48d",
   "metadata": {
    "hide-output": false
   },
   "outputs": [],
   "source": [
    "def daily_value(df):\n",
    "    # DELETE `pass` below and replace it with your code\n",
    "    pass\n",
    "\n",
    "rolling_btc = btc_usd.rolling(\"30d\")\n",
    "\n",
    "# do steps 2-4 here"
   ]
  },
  {
   "cell_type": "markdown",
   "id": "1a0c0fda",
   "metadata": {},
   "source": [
    "([back to text](#pd-tim-dir6))"
   ]
  },
  {
   "cell_type": "markdown",
   "id": "c40cb9d3",
   "metadata": {},
   "source": [
    "### Exercise 7\n",
    "\n",
    "Now suppose you still have access to the DeLorean, but the conditions are\n",
    "slightly different.\n",
    "\n",
    "You may now:\n",
    "\n",
    "- Travel back to the *first day* of any month in the past.  \n",
    "- On that day, you may purchase one bitcoin *at market open*.  \n",
    "- You can then travel to any day *in that month* and sell the bitcoin *at market close*.  \n",
    "- Then return to the present, pocketing the profits.  \n",
    "\n",
    "\n",
    "To which month would you travel? On which day of that month would you return\n",
    "to sell the bitcoin?\n",
    "\n",
    "Discuss with your neighbor what you would need to compute to make the\n",
    "optimal choice. Try writing it out in the markdown cell below so you\n",
    "have a clear description of the *want* operator that we will apply after\n",
    "the exercise.\n",
    "\n",
    "(Note: **Don’t** look too many cells below, because we have written out\n",
    "our answer.)\n",
    "\n",
    "To make the optimal decision we need …\n",
    "\n",
    "**Your answer here**\n",
    "\n",
    "([back to text](#pd-tim-dir7))"
   ]
  },
  {
   "cell_type": "markdown",
   "id": "20488b24",
   "metadata": {},
   "source": [
    "### Exercise 8\n",
    "\n",
    "Do the following:\n",
    "\n",
    "1. Write a pandas function that implements your strategy.  \n",
    "1. Pass it to the `agg` method of `resampled_btc`.  \n",
    "1. Extract the `\"Open\"` column from the result.  \n",
    "1. Find the date associated with the maximum value in that column.  \n",
    "\n",
    "\n",
    "How much money did you make? Compare with your neighbor.\n",
    "\n",
    "Was this strategy more profitable than the previous one? By how much?"
   ]
  },
  {
   "cell_type": "code",
   "execution_count": null,
   "id": "872a24f2",
   "metadata": {
    "hide-output": false
   },
   "outputs": [],
   "source": [
    "def monthly_value(df):\n",
    "    # DELETE `pass` below and replace it with your code\n",
    "    pass\n",
    "\n",
    "resampled_btc = btc_usd.resample(\"MS\")\n",
    "\n",
    "# Do steps 2-4 here"
   ]
  },
  {
   "cell_type": "markdown",
   "id": "24211b4f",
   "metadata": {},
   "source": [
    "([back to text](#pd-tim-dir8))"
   ]
  }
 ],
 "metadata": {
  "date": 1627429658.0591145,
  "filename": "timeseries.md",
  "kernelspec": {
   "display_name": "Python",
   "language": "python3",
   "name": "python3"
  },
  "title": "Time series"
 },
 "nbformat": 4,
 "nbformat_minor": 5
}